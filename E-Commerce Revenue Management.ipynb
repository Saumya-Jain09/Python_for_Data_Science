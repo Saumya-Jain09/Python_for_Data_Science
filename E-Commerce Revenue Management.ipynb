{
  "cells": [
    {
      "cell_type": "markdown",
      "id": "6a7d5404",
      "metadata": {
        "id": "6a7d5404"
      },
      "source": [
        "<font color='blue'>\n",
        "    <font size = 5>\n",
        "        You have been given the role of a business analyst for an E-Commerce company and have been asked to prepare a basic report on the data. Follow the steps below for preparation of the report.\n",
        "\n",
        "Before you start analysing the data, it is always a good practice to see the size of the data, its features and feature types. If the data set is big, it is not possible to print out all the records.\n",
        "    </font>\n",
        "####  Note: Use the markdown feature of Python to explain your answer.\n",
        "    "
      ]
    },
    {
      "cell_type": "markdown",
      "id": "daf5d935",
      "metadata": {
        "id": "daf5d935"
      },
      "source": [
        "## Load the necessary libraries. Import and load the dataset with a name ECom_Data ."
      ]
    },
    {
      "cell_type": "code",
      "execution_count": 3,
      "id": "eec2a3b5",
      "metadata": {
        "id": "eec2a3b5"
      },
      "outputs": [],
      "source": [
        "import numpy as np\n",
        "import pandas as pd\n",
        "import matplotlib.pyplot as plt\n",
        "import seaborn as sns\n",
        "pd.options.display.max_rows = 10"
      ]
    },
    {
      "cell_type": "code",
      "execution_count": 4,
      "id": "8e1fcc97",
      "metadata": {
        "colab": {
          "base_uri": "https://localhost:8080/"
        },
        "id": "8e1fcc97",
        "outputId": "f92970c7-b658-44c9-daf8-201572bb548c"
      },
      "outputs": [
        {
          "output_type": "stream",
          "name": "stdout",
          "text": [
            "Mounted at /content/drive\n"
          ]
        }
      ],
      "source": [
        "# Get the Data\n",
        "\n",
        "from google.colab import drive\n",
        "drive.mount('/content/drive')\n"
      ]
    },
    {
      "cell_type": "code",
      "source": [
        "path=\"/content/drive/MyDrive/Project/E-Commerce.csv\""
      ],
      "metadata": {
        "id": "D55_VgJ3mahY"
      },
      "id": "D55_VgJ3mahY",
      "execution_count": 5,
      "outputs": []
    },
    {
      "cell_type": "code",
      "source": [
        "ECom_Data=pd.read_csv(path)"
      ],
      "metadata": {
        "id": "3Alp8YxDnY5v"
      },
      "id": "3Alp8YxDnY5v",
      "execution_count": 6,
      "outputs": []
    },
    {
      "cell_type": "code",
      "source": [
        "ECom_Data.info()"
      ],
      "metadata": {
        "colab": {
          "base_uri": "https://localhost:8080/"
        },
        "id": "pffb-cSnnosD",
        "outputId": "bf4a8aad-948f-482d-83c1-2060f58fa665"
      },
      "id": "pffb-cSnnosD",
      "execution_count": 7,
      "outputs": [
        {
          "output_type": "stream",
          "name": "stdout",
          "text": [
            "<class 'pandas.core.frame.DataFrame'>\n",
            "RangeIndex: 8906 entries, 0 to 8905\n",
            "Data columns (total 17 columns):\n",
            " #   Column                      Non-Null Count  Dtype  \n",
            "---  ------                      --------------  -----  \n",
            " 0   Customer_uniq_id            8906 non-null   object \n",
            " 1   Region                      8906 non-null   object \n",
            " 2   Order_Date                  8906 non-null   object \n",
            " 3   Expected_Delivery_Date      8906 non-null   object \n",
            " 4   Delivered_Date              8906 non-null   object \n",
            " 5   product_name                8906 non-null   object \n",
            " 6   product_main_category       8906 non-null   object \n",
            " 7   product_subcategory         8906 non-null   object \n",
            " 8   product_category_filter     8906 non-null   object \n",
            " 9   product_category_subfilter  8906 non-null   object \n",
            " 10  product_unique ID           8906 non-null   object \n",
            " 11  retail_price                8906 non-null   int64  \n",
            " 12  discounted_price            8906 non-null   int64  \n",
            " 13  product_rating              8906 non-null   float64\n",
            " 14  Brand                       8906 non-null   object \n",
            " 15  product_specifications      8906 non-null   object \n",
            " 16  description                 8906 non-null   object \n",
            "dtypes: float64(1), int64(2), object(14)\n",
            "memory usage: 1.2+ MB\n"
          ]
        }
      ]
    },
    {
      "cell_type": "markdown",
      "id": "2cf5f20f",
      "metadata": {
        "id": "2cf5f20f"
      },
      "source": [
        "<font color='blue'>\n",
        "    <font size = 5>\n",
        "        We have read the data and stored the data in \"ECom_Data\" variable </font>"
      ]
    },
    {
      "cell_type": "markdown",
      "id": "a0a4f84a",
      "metadata": {
        "id": "a0a4f84a"
      },
      "source": [
        "## Q 1.\tTo get familiar with the data\n",
        "## a)\tPrint out the first 10 and the last 10 records of the data. (2 marks)\n",
        "## b)\tHow many rows and columns are present in the dataset? Use any two different methods to extract this information. (2 + 2 + 2 marks)\n",
        "## c)\tHow many object data types are there? (1 mark)\n",
        "## d)\tIs there any Boolean data type? (1 mark)\n",
        "#### Note: Use the markdown feature of Python to explain your answer.\n"
      ]
    },
    {
      "cell_type": "markdown",
      "id": "0ba43d74",
      "metadata": {
        "id": "0ba43d74"
      },
      "source": [
        "#### Ans 1 a)"
      ]
    },
    {
      "cell_type": "code",
      "execution_count": 6,
      "id": "6684f5a1",
      "metadata": {
        "colab": {
          "base_uri": "https://localhost:8080/",
          "height": 5440
        },
        "id": "6684f5a1",
        "outputId": "1b2623c0-4db9-440e-e978-2f93fe2cc41f"
      },
      "outputs": [
        {
          "output_type": "execute_result",
          "data": {
            "text/plain": [
              "                   Customer_uniq_id Region  Order_Date Expected_Delivery_Date  \\\n",
              "0  e71017e224688489edfe856f2308806d  East   24-10-2021             25-10-2021   \n",
              "1  6286847ee2da18f587503db49511c539  East   24-10-2021             25-10-2021   \n",
              "2  0686fec9b70e5039583a38119ca0c835   West  24-10-2021             25-10-2021   \n",
              "3  ea2406dc597bee2abb6b867fa668501f   West  24-10-2021             25-10-2021   \n",
              "4  5935ed077915347dc695744df68c565c  East   03-09-2021             04-09-2021   \n",
              "5  89fcdddaad50084e395d0928a7426afe  East   03-09-2021             04-09-2021   \n",
              "6  b9b183aa18d3a721d2ac23e7184525b0  East   03-09-2021             04-09-2021   \n",
              "7  dee64864c0419bec80fbbb94d19bc40d  East   03-09-2021             04-09-2021   \n",
              "8  595f55f2c1293f07ea9ec9fa2bb39f46  East   03-09-2021             04-09-2021   \n",
              "9  547b6585272473ae006bcfbdb47b6ae0   West  26-08-2021             27-08-2021   \n",
              "\n",
              "  Delivered_Date                                       product_name  \\\n",
              "0     25-10-2021  Indcrown Net Embroidered Semi-stitched Lehenga...   \n",
              "1     25-10-2021      Shopmania Music Band A5 Notebook Spiral Bound   \n",
              "2     25-10-2021      Shopmania Music Band A5 Notebook Spiral Bound   \n",
              "3     25-10-2021  Tiara Diaries 2016-2017 Designer LA Kaarta \"TA...   \n",
              "4     04-09-2021                KAJCI Embroidered Women's Waistcoat   \n",
              "5     04-09-2021  Packman 8 x 10 inches Security Bags Without PO...   \n",
              "6     04-09-2021          Pick Pocket Embroidered Women's Waistcoat   \n",
              "7     04-09-2021                        Angelfish Silk Potali Potli   \n",
              "8     04-09-2021                                 Oye Boy's Dungaree   \n",
              "9     27-08-2021                                Nuride Canvas Shoes   \n",
              "\n",
              "    product_main_category    product_subcategory    product_category_filter  \\\n",
              "0               Clothing       Women's Clothing                Ethnic Wear    \n",
              "1      Pens & Stationery    Diaries & Notebooks                  Notebooks    \n",
              "2      Pens & Stationery    Diaries & Notebooks                  Notebooks    \n",
              "3      Pens & Stationery    Diaries & Notebooks                  Notebooks    \n",
              "4               Clothing       Women's Clothing                Formal Wear    \n",
              "5      Pens & Stationery        Office Supplies    Packaging Security Bags    \n",
              "6               Clothing       Women's Clothing                Formal Wear    \n",
              "7  Bags, Wallets & Belts                   Bags         Pouches and Potlis    \n",
              "8               Clothing         Kids' Clothing                  Boys Wear    \n",
              "9               Footwear       Women's Footwear               Casual Shoes    \n",
              "\n",
              "          product_category_subfilter product_unique ID  retail_price  \\\n",
              "0                            Fabric   FABEJX2NHNKCYHKA           999   \n",
              "1                          Designer   DIAEJ6Z8BEDTGGYY           499   \n",
              "2                          Designer   DIAEJ6Z8KQFWDEGH           499   \n",
              "3                          Designer   DIAEJ8FGHZ3K86JU          1000   \n",
              "4                        Waistcoats   WSCEG2FYDYFDSVZ6          1200   \n",
              "5   Packman Packaging Security Bags   PKBEGBTRKKHU26YQ           350   \n",
              "6                        Waistcoats   WSCEFUV4TVWT73ZB           899   \n",
              "7      Angelfish Pouches and Potlis   PPSEGFYAGD8FYUXV           999   \n",
              "8             Dungarees & Jumpsuits   DRPEF2XSFBAP4SUZ           899   \n",
              "9                            Canvas   SHOEGVQCT2ZSGUHY          1999   \n",
              "\n",
              "   discounted_price  product_rating          Brand  \\\n",
              "0               699             4.0       INDCROWN   \n",
              "1               275             1.0      SHOPMANIA   \n",
              "2               275             2.0      SHOPMANIA   \n",
              "3               837             3.0  TIARA DIARIES   \n",
              "4               699             5.0          KAJCI   \n",
              "5               298             4.0        PACKMAN   \n",
              "6               899             1.0    PICK POCKET   \n",
              "7               399             4.0      ANGELFISH   \n",
              "8               764             1.0            OYE   \n",
              "9              1349             2.0         NURIDE   \n",
              "\n",
              "                              product_specifications  \\\n",
              "0  {\"product_specification\"=>[{\"key\"=>\"Fabric\", \"...   \n",
              "1  {\"product_specification\"=>[{\"key\"=>\"Ruling\", \"...   \n",
              "2  {\"product_specification\"=>[{\"key\"=>\"Ruling\", \"...   \n",
              "3  {\"product_specification\"=>[{\"key\"=>\"Ruling\", \"...   \n",
              "4  {\"product_specification\"=>[{\"key\"=>\"Pattern\", ...   \n",
              "5  {\"product_specification\"=>[{\"key\"=>\"Bubble Wra...   \n",
              "6  {\"product_specification\"=>[{\"key\"=>\"Pattern\", ...   \n",
              "7  {\"product_specification\"=>[{\"key\"=>\"Closure\", ...   \n",
              "8  {\"product_specification\"=>[{\"key\"=>\"Number of ...   \n",
              "9  {\"product_specification\"=>[{\"key\"=>\"Occasion\",...   \n",
              "\n",
              "                                         description  \n",
              "0  Key Features of Indcrown Net Embroidered Semi-...  \n",
              "1  Specifications of Shopmania Music Band A5 Note...  \n",
              "2  Specifications of Shopmania Music Band A5 Note...  \n",
              "3  Specifications of Tiara Diaries 2016-2017 Desi...  \n",
              "4  Specifications of KAJCI Embroidered Women's Wa...  \n",
              "5  Key Features of Packman 8 x 10 inches Security...  \n",
              "6  Specifications of Pick Pocket Embroidered Wome...  \n",
              "7  Angelfish Silk Potali Potli (Multicolor) Price...  \n",
              "8  Specifications of Oye Boy's Dungaree Top Detai...  \n",
              "9  Key Features of Nuride Canvas Shoes Material: ...  "
            ],
            "text/html": [
              "\n",
              "  <div id=\"df-60f30a8e-555b-4374-a317-dec4e026110c\">\n",
              "    <div class=\"colab-df-container\">\n",
              "      <div>\n",
              "<style scoped>\n",
              "    .dataframe tbody tr th:only-of-type {\n",
              "        vertical-align: middle;\n",
              "    }\n",
              "\n",
              "    .dataframe tbody tr th {\n",
              "        vertical-align: top;\n",
              "    }\n",
              "\n",
              "    .dataframe thead th {\n",
              "        text-align: right;\n",
              "    }\n",
              "</style>\n",
              "<table border=\"1\" class=\"dataframe\">\n",
              "  <thead>\n",
              "    <tr style=\"text-align: right;\">\n",
              "      <th></th>\n",
              "      <th>Customer_uniq_id</th>\n",
              "      <th>Region</th>\n",
              "      <th>Order_Date</th>\n",
              "      <th>Expected_Delivery_Date</th>\n",
              "      <th>Delivered_Date</th>\n",
              "      <th>product_name</th>\n",
              "      <th>product_main_category</th>\n",
              "      <th>product_subcategory</th>\n",
              "      <th>product_category_filter</th>\n",
              "      <th>product_category_subfilter</th>\n",
              "      <th>product_unique ID</th>\n",
              "      <th>retail_price</th>\n",
              "      <th>discounted_price</th>\n",
              "      <th>product_rating</th>\n",
              "      <th>Brand</th>\n",
              "      <th>product_specifications</th>\n",
              "      <th>description</th>\n",
              "    </tr>\n",
              "  </thead>\n",
              "  <tbody>\n",
              "    <tr>\n",
              "      <th>0</th>\n",
              "      <td>e71017e224688489edfe856f2308806d</td>\n",
              "      <td>East</td>\n",
              "      <td>24-10-2021</td>\n",
              "      <td>25-10-2021</td>\n",
              "      <td>25-10-2021</td>\n",
              "      <td>Indcrown Net Embroidered Semi-stitched Lehenga...</td>\n",
              "      <td>Clothing</td>\n",
              "      <td>Women's Clothing</td>\n",
              "      <td>Ethnic Wear</td>\n",
              "      <td>Fabric</td>\n",
              "      <td>FABEJX2NHNKCYHKA</td>\n",
              "      <td>999</td>\n",
              "      <td>699</td>\n",
              "      <td>4.0</td>\n",
              "      <td>INDCROWN</td>\n",
              "      <td>{\"product_specification\"=&gt;[{\"key\"=&gt;\"Fabric\", \"...</td>\n",
              "      <td>Key Features of Indcrown Net Embroidered Semi-...</td>\n",
              "    </tr>\n",
              "    <tr>\n",
              "      <th>1</th>\n",
              "      <td>6286847ee2da18f587503db49511c539</td>\n",
              "      <td>East</td>\n",
              "      <td>24-10-2021</td>\n",
              "      <td>25-10-2021</td>\n",
              "      <td>25-10-2021</td>\n",
              "      <td>Shopmania Music Band A5 Notebook Spiral Bound</td>\n",
              "      <td>Pens &amp; Stationery</td>\n",
              "      <td>Diaries &amp; Notebooks</td>\n",
              "      <td>Notebooks</td>\n",
              "      <td>Designer</td>\n",
              "      <td>DIAEJ6Z8BEDTGGYY</td>\n",
              "      <td>499</td>\n",
              "      <td>275</td>\n",
              "      <td>1.0</td>\n",
              "      <td>SHOPMANIA</td>\n",
              "      <td>{\"product_specification\"=&gt;[{\"key\"=&gt;\"Ruling\", \"...</td>\n",
              "      <td>Specifications of Shopmania Music Band A5 Note...</td>\n",
              "    </tr>\n",
              "    <tr>\n",
              "      <th>2</th>\n",
              "      <td>0686fec9b70e5039583a38119ca0c835</td>\n",
              "      <td>West</td>\n",
              "      <td>24-10-2021</td>\n",
              "      <td>25-10-2021</td>\n",
              "      <td>25-10-2021</td>\n",
              "      <td>Shopmania Music Band A5 Notebook Spiral Bound</td>\n",
              "      <td>Pens &amp; Stationery</td>\n",
              "      <td>Diaries &amp; Notebooks</td>\n",
              "      <td>Notebooks</td>\n",
              "      <td>Designer</td>\n",
              "      <td>DIAEJ6Z8KQFWDEGH</td>\n",
              "      <td>499</td>\n",
              "      <td>275</td>\n",
              "      <td>2.0</td>\n",
              "      <td>SHOPMANIA</td>\n",
              "      <td>{\"product_specification\"=&gt;[{\"key\"=&gt;\"Ruling\", \"...</td>\n",
              "      <td>Specifications of Shopmania Music Band A5 Note...</td>\n",
              "    </tr>\n",
              "    <tr>\n",
              "      <th>3</th>\n",
              "      <td>ea2406dc597bee2abb6b867fa668501f</td>\n",
              "      <td>West</td>\n",
              "      <td>24-10-2021</td>\n",
              "      <td>25-10-2021</td>\n",
              "      <td>25-10-2021</td>\n",
              "      <td>Tiara Diaries 2016-2017 Designer LA Kaarta \"TA...</td>\n",
              "      <td>Pens &amp; Stationery</td>\n",
              "      <td>Diaries &amp; Notebooks</td>\n",
              "      <td>Notebooks</td>\n",
              "      <td>Designer</td>\n",
              "      <td>DIAEJ8FGHZ3K86JU</td>\n",
              "      <td>1000</td>\n",
              "      <td>837</td>\n",
              "      <td>3.0</td>\n",
              "      <td>TIARA DIARIES</td>\n",
              "      <td>{\"product_specification\"=&gt;[{\"key\"=&gt;\"Ruling\", \"...</td>\n",
              "      <td>Specifications of Tiara Diaries 2016-2017 Desi...</td>\n",
              "    </tr>\n",
              "    <tr>\n",
              "      <th>4</th>\n",
              "      <td>5935ed077915347dc695744df68c565c</td>\n",
              "      <td>East</td>\n",
              "      <td>03-09-2021</td>\n",
              "      <td>04-09-2021</td>\n",
              "      <td>04-09-2021</td>\n",
              "      <td>KAJCI Embroidered Women's Waistcoat</td>\n",
              "      <td>Clothing</td>\n",
              "      <td>Women's Clothing</td>\n",
              "      <td>Formal Wear</td>\n",
              "      <td>Waistcoats</td>\n",
              "      <td>WSCEG2FYDYFDSVZ6</td>\n",
              "      <td>1200</td>\n",
              "      <td>699</td>\n",
              "      <td>5.0</td>\n",
              "      <td>KAJCI</td>\n",
              "      <td>{\"product_specification\"=&gt;[{\"key\"=&gt;\"Pattern\", ...</td>\n",
              "      <td>Specifications of KAJCI Embroidered Women's Wa...</td>\n",
              "    </tr>\n",
              "    <tr>\n",
              "      <th>5</th>\n",
              "      <td>89fcdddaad50084e395d0928a7426afe</td>\n",
              "      <td>East</td>\n",
              "      <td>03-09-2021</td>\n",
              "      <td>04-09-2021</td>\n",
              "      <td>04-09-2021</td>\n",
              "      <td>Packman 8 x 10 inches Security Bags Without PO...</td>\n",
              "      <td>Pens &amp; Stationery</td>\n",
              "      <td>Office Supplies</td>\n",
              "      <td>Packaging Security Bags</td>\n",
              "      <td>Packman Packaging Security Bags</td>\n",
              "      <td>PKBEGBTRKKHU26YQ</td>\n",
              "      <td>350</td>\n",
              "      <td>298</td>\n",
              "      <td>4.0</td>\n",
              "      <td>PACKMAN</td>\n",
              "      <td>{\"product_specification\"=&gt;[{\"key\"=&gt;\"Bubble Wra...</td>\n",
              "      <td>Key Features of Packman 8 x 10 inches Security...</td>\n",
              "    </tr>\n",
              "    <tr>\n",
              "      <th>6</th>\n",
              "      <td>b9b183aa18d3a721d2ac23e7184525b0</td>\n",
              "      <td>East</td>\n",
              "      <td>03-09-2021</td>\n",
              "      <td>04-09-2021</td>\n",
              "      <td>04-09-2021</td>\n",
              "      <td>Pick Pocket Embroidered Women's Waistcoat</td>\n",
              "      <td>Clothing</td>\n",
              "      <td>Women's Clothing</td>\n",
              "      <td>Formal Wear</td>\n",
              "      <td>Waistcoats</td>\n",
              "      <td>WSCEFUV4TVWT73ZB</td>\n",
              "      <td>899</td>\n",
              "      <td>899</td>\n",
              "      <td>1.0</td>\n",
              "      <td>PICK POCKET</td>\n",
              "      <td>{\"product_specification\"=&gt;[{\"key\"=&gt;\"Pattern\", ...</td>\n",
              "      <td>Specifications of Pick Pocket Embroidered Wome...</td>\n",
              "    </tr>\n",
              "    <tr>\n",
              "      <th>7</th>\n",
              "      <td>dee64864c0419bec80fbbb94d19bc40d</td>\n",
              "      <td>East</td>\n",
              "      <td>03-09-2021</td>\n",
              "      <td>04-09-2021</td>\n",
              "      <td>04-09-2021</td>\n",
              "      <td>Angelfish Silk Potali Potli</td>\n",
              "      <td>Bags, Wallets &amp; Belts</td>\n",
              "      <td>Bags</td>\n",
              "      <td>Pouches and Potlis</td>\n",
              "      <td>Angelfish Pouches and Potlis</td>\n",
              "      <td>PPSEGFYAGD8FYUXV</td>\n",
              "      <td>999</td>\n",
              "      <td>399</td>\n",
              "      <td>4.0</td>\n",
              "      <td>ANGELFISH</td>\n",
              "      <td>{\"product_specification\"=&gt;[{\"key\"=&gt;\"Closure\", ...</td>\n",
              "      <td>Angelfish Silk Potali Potli (Multicolor) Price...</td>\n",
              "    </tr>\n",
              "    <tr>\n",
              "      <th>8</th>\n",
              "      <td>595f55f2c1293f07ea9ec9fa2bb39f46</td>\n",
              "      <td>East</td>\n",
              "      <td>03-09-2021</td>\n",
              "      <td>04-09-2021</td>\n",
              "      <td>04-09-2021</td>\n",
              "      <td>Oye Boy's Dungaree</td>\n",
              "      <td>Clothing</td>\n",
              "      <td>Kids' Clothing</td>\n",
              "      <td>Boys Wear</td>\n",
              "      <td>Dungarees &amp; Jumpsuits</td>\n",
              "      <td>DRPEF2XSFBAP4SUZ</td>\n",
              "      <td>899</td>\n",
              "      <td>764</td>\n",
              "      <td>1.0</td>\n",
              "      <td>OYE</td>\n",
              "      <td>{\"product_specification\"=&gt;[{\"key\"=&gt;\"Number of ...</td>\n",
              "      <td>Specifications of Oye Boy's Dungaree Top Detai...</td>\n",
              "    </tr>\n",
              "    <tr>\n",
              "      <th>9</th>\n",
              "      <td>547b6585272473ae006bcfbdb47b6ae0</td>\n",
              "      <td>West</td>\n",
              "      <td>26-08-2021</td>\n",
              "      <td>27-08-2021</td>\n",
              "      <td>27-08-2021</td>\n",
              "      <td>Nuride Canvas Shoes</td>\n",
              "      <td>Footwear</td>\n",
              "      <td>Women's Footwear</td>\n",
              "      <td>Casual Shoes</td>\n",
              "      <td>Canvas</td>\n",
              "      <td>SHOEGVQCT2ZSGUHY</td>\n",
              "      <td>1999</td>\n",
              "      <td>1349</td>\n",
              "      <td>2.0</td>\n",
              "      <td>NURIDE</td>\n",
              "      <td>{\"product_specification\"=&gt;[{\"key\"=&gt;\"Occasion\",...</td>\n",
              "      <td>Key Features of Nuride Canvas Shoes Material: ...</td>\n",
              "    </tr>\n",
              "  </tbody>\n",
              "</table>\n",
              "</div>\n",
              "      <button class=\"colab-df-convert\" onclick=\"convertToInteractive('df-60f30a8e-555b-4374-a317-dec4e026110c')\"\n",
              "              title=\"Convert this dataframe to an interactive table.\"\n",
              "              style=\"display:none;\">\n",
              "        \n",
              "  <svg xmlns=\"http://www.w3.org/2000/svg\" height=\"24px\"viewBox=\"0 0 24 24\"\n",
              "       width=\"24px\">\n",
              "    <path d=\"M0 0h24v24H0V0z\" fill=\"none\"/>\n",
              "    <path d=\"M18.56 5.44l.94 2.06.94-2.06 2.06-.94-2.06-.94-.94-2.06-.94 2.06-2.06.94zm-11 1L8.5 8.5l.94-2.06 2.06-.94-2.06-.94L8.5 2.5l-.94 2.06-2.06.94zm10 10l.94 2.06.94-2.06 2.06-.94-2.06-.94-.94-2.06-.94 2.06-2.06.94z\"/><path d=\"M17.41 7.96l-1.37-1.37c-.4-.4-.92-.59-1.43-.59-.52 0-1.04.2-1.43.59L10.3 9.45l-7.72 7.72c-.78.78-.78 2.05 0 2.83L4 21.41c.39.39.9.59 1.41.59.51 0 1.02-.2 1.41-.59l7.78-7.78 2.81-2.81c.8-.78.8-2.07 0-2.86zM5.41 20L4 18.59l7.72-7.72 1.47 1.35L5.41 20z\"/>\n",
              "  </svg>\n",
              "      </button>\n",
              "      \n",
              "  <style>\n",
              "    .colab-df-container {\n",
              "      display:flex;\n",
              "      flex-wrap:wrap;\n",
              "      gap: 12px;\n",
              "    }\n",
              "\n",
              "    .colab-df-convert {\n",
              "      background-color: #E8F0FE;\n",
              "      border: none;\n",
              "      border-radius: 50%;\n",
              "      cursor: pointer;\n",
              "      display: none;\n",
              "      fill: #1967D2;\n",
              "      height: 32px;\n",
              "      padding: 0 0 0 0;\n",
              "      width: 32px;\n",
              "    }\n",
              "\n",
              "    .colab-df-convert:hover {\n",
              "      background-color: #E2EBFA;\n",
              "      box-shadow: 0px 1px 2px rgba(60, 64, 67, 0.3), 0px 1px 3px 1px rgba(60, 64, 67, 0.15);\n",
              "      fill: #174EA6;\n",
              "    }\n",
              "\n",
              "    [theme=dark] .colab-df-convert {\n",
              "      background-color: #3B4455;\n",
              "      fill: #D2E3FC;\n",
              "    }\n",
              "\n",
              "    [theme=dark] .colab-df-convert:hover {\n",
              "      background-color: #434B5C;\n",
              "      box-shadow: 0px 1px 3px 1px rgba(0, 0, 0, 0.15);\n",
              "      filter: drop-shadow(0px 1px 2px rgba(0, 0, 0, 0.3));\n",
              "      fill: #FFFFFF;\n",
              "    }\n",
              "  </style>\n",
              "\n",
              "      <script>\n",
              "        const buttonEl =\n",
              "          document.querySelector('#df-60f30a8e-555b-4374-a317-dec4e026110c button.colab-df-convert');\n",
              "        buttonEl.style.display =\n",
              "          google.colab.kernel.accessAllowed ? 'block' : 'none';\n",
              "\n",
              "        async function convertToInteractive(key) {\n",
              "          const element = document.querySelector('#df-60f30a8e-555b-4374-a317-dec4e026110c');\n",
              "          const dataTable =\n",
              "            await google.colab.kernel.invokeFunction('convertToInteractive',\n",
              "                                                     [key], {});\n",
              "          if (!dataTable) return;\n",
              "\n",
              "          const docLinkHtml = 'Like what you see? Visit the ' +\n",
              "            '<a target=\"_blank\" href=https://colab.research.google.com/notebooks/data_table.ipynb>data table notebook</a>'\n",
              "            + ' to learn more about interactive tables.';\n",
              "          element.innerHTML = '';\n",
              "          dataTable['output_type'] = 'display_data';\n",
              "          await google.colab.output.renderOutput(dataTable, element);\n",
              "          const docLink = document.createElement('div');\n",
              "          docLink.innerHTML = docLinkHtml;\n",
              "          element.appendChild(docLink);\n",
              "        }\n",
              "      </script>\n",
              "    </div>\n",
              "  </div>\n",
              "  "
            ]
          },
          "metadata": {},
          "execution_count": 6
        }
      ],
      "source": [
        "ECom_Data.head (10)"
      ]
    },
    {
      "cell_type": "markdown",
      "source": [
        "To get the top 10 elements of the given dataset we have used head"
      ],
      "metadata": {
        "id": "7PDDibKjthlG"
      },
      "id": "7PDDibKjthlG"
    },
    {
      "cell_type": "code",
      "source": [
        "ECom_Data.tail (10)"
      ],
      "metadata": {
        "colab": {
          "base_uri": "https://localhost:8080/",
          "height": 1000
        },
        "id": "zkoOsRmhoyae",
        "outputId": "c1a28a96-0df0-4ce8-fe5c-8114598fe6df"
      },
      "id": "zkoOsRmhoyae",
      "execution_count": 7,
      "outputs": [
        {
          "output_type": "execute_result",
          "data": {
            "text/plain": [
              "                      Customer_uniq_id Region  Order_Date  \\\n",
              "8896  4db03bc4ccbe216cf151b2f2b904ba3f  East   01-12-2020   \n",
              "8897  4d4d6aeb13fa253499d0dd45a5abd87e   West  01-12-2020   \n",
              "8898  ea19e7ef703293d3f6c799ca9db4642d   West  01-12-2020   \n",
              "8899  19a53a958992fb575acffb5d41e7ef9e  East   01-12-2020   \n",
              "8900  09abab80c8dfdc6f268e0a6f05a0be11  North  01-12-2020   \n",
              "8901  90d30478255e23621e8929ed15c2f6e4  South  01-12-2020   \n",
              "8902  20a73e3f41490a73ceeba5f17658db8f   West  01-12-2020   \n",
              "8903  5c1554cd45f9d538c2c6947dbdd59c75  East   01-12-2020   \n",
              "8904  6b737a4deca1ed0e56c179e66036e994   West  01-12-2020   \n",
              "8905  a5235ac28d3d5487f54025f9d6b57433  North  01-12-2020   \n",
              "\n",
              "     Expected_Delivery_Date Delivered_Date  \\\n",
              "8896             04-12-2020     04-12-2020   \n",
              "8897             04-12-2020     04-12-2020   \n",
              "8898             04-12-2020     04-12-2020   \n",
              "8899             04-12-2020     04-12-2020   \n",
              "8900             04-12-2020     04-12-2020   \n",
              "8901             04-12-2020     04-12-2020   \n",
              "8902             04-12-2020     04-12-2020   \n",
              "8903             04-12-2020     04-12-2020   \n",
              "8904             04-12-2020     04-12-2020   \n",
              "8905             04-12-2020     04-12-2020   \n",
              "\n",
              "                                           product_name product_main_category  \\\n",
              "8896                           Luca Fashion Girls Heels             Footwear    \n",
              "8897                            Shoetopia Girls Sandals             Footwear    \n",
              "8898                        SMART TRADERS Girls Sandals             Footwear    \n",
              "8899                                  Beanz Girls Flats             Footwear    \n",
              "8900                       Nova KT 728S Electric Kettle       Home & Kitchen    \n",
              "8901  Sinina Chanderi Embroidered Salwar Suit Dupatt...             Clothing    \n",
              "8902  Aarushi Fashion Chanderi Embroidered Salwar Su...             Clothing    \n",
              "8903  Ambika Lahenga Embroidered Lehenga, Choli and ...             Clothing    \n",
              "8904  Sinina Chanderi Embroidered Salwar Suit Dupatt...             Clothing    \n",
              "8905  Aarushi Fashion Silk Striped Salwar Suit Dupat...             Clothing    \n",
              "\n",
              "            product_subcategory                product_category_filter  \\\n",
              "8896   Kids' & Infant Footwear                              For Girls    \n",
              "8897   Kids' & Infant Footwear                              For Girls    \n",
              "8898   Kids' & Infant Footwear                              For Girls    \n",
              "8899   Kids' & Infant Footwear                              For Girls    \n",
              "8900        Kitchen Appliances    Electric Jug(heater)/Travel Kettles    \n",
              "8901          Women's Clothing                            Ethnic Wear    \n",
              "8902          Women's Clothing                            Ethnic Wear    \n",
              "8903          Women's Clothing                            Ethnic Wear    \n",
              "8904          Women's Clothing                            Ethnic Wear    \n",
              "8905          Women's Clothing                            Ethnic Wear    \n",
              "\n",
              "                      product_category_subfilter product_unique ID  \\\n",
              "8896                                    Sandals   SNDEHG3DNVBFGAT5   \n",
              "8897                                    Sandals   SNDEG7DRWSX8HFXZ   \n",
              "8898                                    Sandals   SNDEG7MZHHKZ58D2   \n",
              "8899                                    Sandals   SNDEG7DYVFWHZBC4   \n",
              "8900   Nova Electric Jug(heater)/Travel Kettles   EKTDG5C5QSADZZ8J   \n",
              "8901                                     Fabric   FABEGGHHDFMY8BZU   \n",
              "8902                                     Fabric   FABEG8GFDUWRSNU3   \n",
              "8903                             Lehenga Cholis   LEHEGGEHYN4G2RPW   \n",
              "8904                                     Fabric   FABEGGHHGSVCHGFV   \n",
              "8905                                     Fabric   FABEG8GYDAABECZH   \n",
              "\n",
              "      retail_price  discounted_price  product_rating            Brand  \\\n",
              "8896           999               499             4.0     LUCA FASHION   \n",
              "8897           499               399             4.0        SHOETOPIA   \n",
              "8898           999               499             5.0    SMART TRADERS   \n",
              "8899          1299              1299             3.0            BEANZ   \n",
              "8900          3195               699             3.6             NOVA   \n",
              "8901          2980              1490             3.0           SININA   \n",
              "8902          2600              1300             1.0  AARUSHI FASHION   \n",
              "8903         39992             24995             1.0   AMBIKA LAHENGA   \n",
              "8904          2000              1000             3.0           SININA   \n",
              "8905          2800              1350             4.0  AARUSHI FASHION   \n",
              "\n",
              "                                 product_specifications  \\\n",
              "8896  {\"product_specification\"=>[{\"key\"=>\"Occasion\",...   \n",
              "8897  {\"product_specification\"=>[{\"key\"=>\"Ideal For\"...   \n",
              "8898  {\"product_specification\"=>[{\"key\"=>\"Ideal For\"...   \n",
              "8899  {\"product_specification\"=>[{\"key\"=>\"Occasion\",...   \n",
              "8900  {\"product_specification\"=>[{\"key\"=>\"Brand\", \"v...   \n",
              "8901  {\"product_specification\"=>[{\"key\"=>\"Fabric\", \"...   \n",
              "8902  {\"product_specification\"=>[{\"key\"=>\"Fabric\", \"...   \n",
              "8903  {\"product_specification\"=>[{\"key\"=>\"Fabric\", \"...   \n",
              "8904  {\"product_specification\"=>[{\"key\"=>\"Fabric\", \"...   \n",
              "8905  {\"product_specification\"=>[{\"key\"=>\"Fabric\", \"...   \n",
              "\n",
              "                                            description  \n",
              "8896  Key Features of Luca Fashion Girls Heels Occas...  \n",
              "8897  Key Features of Shoetopia Girls Sandals Flats ...  \n",
              "8898  Key Features of SMART TRADERS Girls Sandals Oc...  \n",
              "8899  Key Features of Beanz Girls Flats Occasion: Ca...  \n",
              "8900  Specifications of Nova KT 728S Electric Kettle...  \n",
              "8901  Key Features of Sinina Chanderi Embroidered Sa...  \n",
              "8902  Key Features of Aarushi Fashion Chanderi Embro...  \n",
              "8903  Key Features of Ambika Lahenga Embroidered Leh...  \n",
              "8904  Key Features of Sinina Chanderi Embroidered Sa...  \n",
              "8905  Key Features of Aarushi Fashion Silk Striped S...  "
            ],
            "text/html": [
              "\n",
              "  <div id=\"df-6fa5b510-ab89-4dde-b274-74967aea83fe\">\n",
              "    <div class=\"colab-df-container\">\n",
              "      <div>\n",
              "<style scoped>\n",
              "    .dataframe tbody tr th:only-of-type {\n",
              "        vertical-align: middle;\n",
              "    }\n",
              "\n",
              "    .dataframe tbody tr th {\n",
              "        vertical-align: top;\n",
              "    }\n",
              "\n",
              "    .dataframe thead th {\n",
              "        text-align: right;\n",
              "    }\n",
              "</style>\n",
              "<table border=\"1\" class=\"dataframe\">\n",
              "  <thead>\n",
              "    <tr style=\"text-align: right;\">\n",
              "      <th></th>\n",
              "      <th>Customer_uniq_id</th>\n",
              "      <th>Region</th>\n",
              "      <th>Order_Date</th>\n",
              "      <th>Expected_Delivery_Date</th>\n",
              "      <th>Delivered_Date</th>\n",
              "      <th>product_name</th>\n",
              "      <th>product_main_category</th>\n",
              "      <th>product_subcategory</th>\n",
              "      <th>product_category_filter</th>\n",
              "      <th>product_category_subfilter</th>\n",
              "      <th>product_unique ID</th>\n",
              "      <th>retail_price</th>\n",
              "      <th>discounted_price</th>\n",
              "      <th>product_rating</th>\n",
              "      <th>Brand</th>\n",
              "      <th>product_specifications</th>\n",
              "      <th>description</th>\n",
              "    </tr>\n",
              "  </thead>\n",
              "  <tbody>\n",
              "    <tr>\n",
              "      <th>8896</th>\n",
              "      <td>4db03bc4ccbe216cf151b2f2b904ba3f</td>\n",
              "      <td>East</td>\n",
              "      <td>01-12-2020</td>\n",
              "      <td>04-12-2020</td>\n",
              "      <td>04-12-2020</td>\n",
              "      <td>Luca Fashion Girls Heels</td>\n",
              "      <td>Footwear</td>\n",
              "      <td>Kids' &amp; Infant Footwear</td>\n",
              "      <td>For Girls</td>\n",
              "      <td>Sandals</td>\n",
              "      <td>SNDEHG3DNVBFGAT5</td>\n",
              "      <td>999</td>\n",
              "      <td>499</td>\n",
              "      <td>4.0</td>\n",
              "      <td>LUCA FASHION</td>\n",
              "      <td>{\"product_specification\"=&gt;[{\"key\"=&gt;\"Occasion\",...</td>\n",
              "      <td>Key Features of Luca Fashion Girls Heels Occas...</td>\n",
              "    </tr>\n",
              "    <tr>\n",
              "      <th>8897</th>\n",
              "      <td>4d4d6aeb13fa253499d0dd45a5abd87e</td>\n",
              "      <td>West</td>\n",
              "      <td>01-12-2020</td>\n",
              "      <td>04-12-2020</td>\n",
              "      <td>04-12-2020</td>\n",
              "      <td>Shoetopia Girls Sandals</td>\n",
              "      <td>Footwear</td>\n",
              "      <td>Kids' &amp; Infant Footwear</td>\n",
              "      <td>For Girls</td>\n",
              "      <td>Sandals</td>\n",
              "      <td>SNDEG7DRWSX8HFXZ</td>\n",
              "      <td>499</td>\n",
              "      <td>399</td>\n",
              "      <td>4.0</td>\n",
              "      <td>SHOETOPIA</td>\n",
              "      <td>{\"product_specification\"=&gt;[{\"key\"=&gt;\"Ideal For\"...</td>\n",
              "      <td>Key Features of Shoetopia Girls Sandals Flats ...</td>\n",
              "    </tr>\n",
              "    <tr>\n",
              "      <th>8898</th>\n",
              "      <td>ea19e7ef703293d3f6c799ca9db4642d</td>\n",
              "      <td>West</td>\n",
              "      <td>01-12-2020</td>\n",
              "      <td>04-12-2020</td>\n",
              "      <td>04-12-2020</td>\n",
              "      <td>SMART TRADERS Girls Sandals</td>\n",
              "      <td>Footwear</td>\n",
              "      <td>Kids' &amp; Infant Footwear</td>\n",
              "      <td>For Girls</td>\n",
              "      <td>Sandals</td>\n",
              "      <td>SNDEG7MZHHKZ58D2</td>\n",
              "      <td>999</td>\n",
              "      <td>499</td>\n",
              "      <td>5.0</td>\n",
              "      <td>SMART TRADERS</td>\n",
              "      <td>{\"product_specification\"=&gt;[{\"key\"=&gt;\"Ideal For\"...</td>\n",
              "      <td>Key Features of SMART TRADERS Girls Sandals Oc...</td>\n",
              "    </tr>\n",
              "    <tr>\n",
              "      <th>8899</th>\n",
              "      <td>19a53a958992fb575acffb5d41e7ef9e</td>\n",
              "      <td>East</td>\n",
              "      <td>01-12-2020</td>\n",
              "      <td>04-12-2020</td>\n",
              "      <td>04-12-2020</td>\n",
              "      <td>Beanz Girls Flats</td>\n",
              "      <td>Footwear</td>\n",
              "      <td>Kids' &amp; Infant Footwear</td>\n",
              "      <td>For Girls</td>\n",
              "      <td>Sandals</td>\n",
              "      <td>SNDEG7DYVFWHZBC4</td>\n",
              "      <td>1299</td>\n",
              "      <td>1299</td>\n",
              "      <td>3.0</td>\n",
              "      <td>BEANZ</td>\n",
              "      <td>{\"product_specification\"=&gt;[{\"key\"=&gt;\"Occasion\",...</td>\n",
              "      <td>Key Features of Beanz Girls Flats Occasion: Ca...</td>\n",
              "    </tr>\n",
              "    <tr>\n",
              "      <th>8900</th>\n",
              "      <td>09abab80c8dfdc6f268e0a6f05a0be11</td>\n",
              "      <td>North</td>\n",
              "      <td>01-12-2020</td>\n",
              "      <td>04-12-2020</td>\n",
              "      <td>04-12-2020</td>\n",
              "      <td>Nova KT 728S Electric Kettle</td>\n",
              "      <td>Home &amp; Kitchen</td>\n",
              "      <td>Kitchen Appliances</td>\n",
              "      <td>Electric Jug(heater)/Travel Kettles</td>\n",
              "      <td>Nova Electric Jug(heater)/Travel Kettles</td>\n",
              "      <td>EKTDG5C5QSADZZ8J</td>\n",
              "      <td>3195</td>\n",
              "      <td>699</td>\n",
              "      <td>3.6</td>\n",
              "      <td>NOVA</td>\n",
              "      <td>{\"product_specification\"=&gt;[{\"key\"=&gt;\"Brand\", \"v...</td>\n",
              "      <td>Specifications of Nova KT 728S Electric Kettle...</td>\n",
              "    </tr>\n",
              "    <tr>\n",
              "      <th>8901</th>\n",
              "      <td>90d30478255e23621e8929ed15c2f6e4</td>\n",
              "      <td>South</td>\n",
              "      <td>01-12-2020</td>\n",
              "      <td>04-12-2020</td>\n",
              "      <td>04-12-2020</td>\n",
              "      <td>Sinina Chanderi Embroidered Salwar Suit Dupatt...</td>\n",
              "      <td>Clothing</td>\n",
              "      <td>Women's Clothing</td>\n",
              "      <td>Ethnic Wear</td>\n",
              "      <td>Fabric</td>\n",
              "      <td>FABEGGHHDFMY8BZU</td>\n",
              "      <td>2980</td>\n",
              "      <td>1490</td>\n",
              "      <td>3.0</td>\n",
              "      <td>SININA</td>\n",
              "      <td>{\"product_specification\"=&gt;[{\"key\"=&gt;\"Fabric\", \"...</td>\n",
              "      <td>Key Features of Sinina Chanderi Embroidered Sa...</td>\n",
              "    </tr>\n",
              "    <tr>\n",
              "      <th>8902</th>\n",
              "      <td>20a73e3f41490a73ceeba5f17658db8f</td>\n",
              "      <td>West</td>\n",
              "      <td>01-12-2020</td>\n",
              "      <td>04-12-2020</td>\n",
              "      <td>04-12-2020</td>\n",
              "      <td>Aarushi Fashion Chanderi Embroidered Salwar Su...</td>\n",
              "      <td>Clothing</td>\n",
              "      <td>Women's Clothing</td>\n",
              "      <td>Ethnic Wear</td>\n",
              "      <td>Fabric</td>\n",
              "      <td>FABEG8GFDUWRSNU3</td>\n",
              "      <td>2600</td>\n",
              "      <td>1300</td>\n",
              "      <td>1.0</td>\n",
              "      <td>AARUSHI FASHION</td>\n",
              "      <td>{\"product_specification\"=&gt;[{\"key\"=&gt;\"Fabric\", \"...</td>\n",
              "      <td>Key Features of Aarushi Fashion Chanderi Embro...</td>\n",
              "    </tr>\n",
              "    <tr>\n",
              "      <th>8903</th>\n",
              "      <td>5c1554cd45f9d538c2c6947dbdd59c75</td>\n",
              "      <td>East</td>\n",
              "      <td>01-12-2020</td>\n",
              "      <td>04-12-2020</td>\n",
              "      <td>04-12-2020</td>\n",
              "      <td>Ambika Lahenga Embroidered Lehenga, Choli and ...</td>\n",
              "      <td>Clothing</td>\n",
              "      <td>Women's Clothing</td>\n",
              "      <td>Ethnic Wear</td>\n",
              "      <td>Lehenga Cholis</td>\n",
              "      <td>LEHEGGEHYN4G2RPW</td>\n",
              "      <td>39992</td>\n",
              "      <td>24995</td>\n",
              "      <td>1.0</td>\n",
              "      <td>AMBIKA LAHENGA</td>\n",
              "      <td>{\"product_specification\"=&gt;[{\"key\"=&gt;\"Fabric\", \"...</td>\n",
              "      <td>Key Features of Ambika Lahenga Embroidered Leh...</td>\n",
              "    </tr>\n",
              "    <tr>\n",
              "      <th>8904</th>\n",
              "      <td>6b737a4deca1ed0e56c179e66036e994</td>\n",
              "      <td>West</td>\n",
              "      <td>01-12-2020</td>\n",
              "      <td>04-12-2020</td>\n",
              "      <td>04-12-2020</td>\n",
              "      <td>Sinina Chanderi Embroidered Salwar Suit Dupatt...</td>\n",
              "      <td>Clothing</td>\n",
              "      <td>Women's Clothing</td>\n",
              "      <td>Ethnic Wear</td>\n",
              "      <td>Fabric</td>\n",
              "      <td>FABEGGHHGSVCHGFV</td>\n",
              "      <td>2000</td>\n",
              "      <td>1000</td>\n",
              "      <td>3.0</td>\n",
              "      <td>SININA</td>\n",
              "      <td>{\"product_specification\"=&gt;[{\"key\"=&gt;\"Fabric\", \"...</td>\n",
              "      <td>Key Features of Sinina Chanderi Embroidered Sa...</td>\n",
              "    </tr>\n",
              "    <tr>\n",
              "      <th>8905</th>\n",
              "      <td>a5235ac28d3d5487f54025f9d6b57433</td>\n",
              "      <td>North</td>\n",
              "      <td>01-12-2020</td>\n",
              "      <td>04-12-2020</td>\n",
              "      <td>04-12-2020</td>\n",
              "      <td>Aarushi Fashion Silk Striped Salwar Suit Dupat...</td>\n",
              "      <td>Clothing</td>\n",
              "      <td>Women's Clothing</td>\n",
              "      <td>Ethnic Wear</td>\n",
              "      <td>Fabric</td>\n",
              "      <td>FABEG8GYDAABECZH</td>\n",
              "      <td>2800</td>\n",
              "      <td>1350</td>\n",
              "      <td>4.0</td>\n",
              "      <td>AARUSHI FASHION</td>\n",
              "      <td>{\"product_specification\"=&gt;[{\"key\"=&gt;\"Fabric\", \"...</td>\n",
              "      <td>Key Features of Aarushi Fashion Silk Striped S...</td>\n",
              "    </tr>\n",
              "  </tbody>\n",
              "</table>\n",
              "</div>\n",
              "      <button class=\"colab-df-convert\" onclick=\"convertToInteractive('df-6fa5b510-ab89-4dde-b274-74967aea83fe')\"\n",
              "              title=\"Convert this dataframe to an interactive table.\"\n",
              "              style=\"display:none;\">\n",
              "        \n",
              "  <svg xmlns=\"http://www.w3.org/2000/svg\" height=\"24px\"viewBox=\"0 0 24 24\"\n",
              "       width=\"24px\">\n",
              "    <path d=\"M0 0h24v24H0V0z\" fill=\"none\"/>\n",
              "    <path d=\"M18.56 5.44l.94 2.06.94-2.06 2.06-.94-2.06-.94-.94-2.06-.94 2.06-2.06.94zm-11 1L8.5 8.5l.94-2.06 2.06-.94-2.06-.94L8.5 2.5l-.94 2.06-2.06.94zm10 10l.94 2.06.94-2.06 2.06-.94-2.06-.94-.94-2.06-.94 2.06-2.06.94z\"/><path d=\"M17.41 7.96l-1.37-1.37c-.4-.4-.92-.59-1.43-.59-.52 0-1.04.2-1.43.59L10.3 9.45l-7.72 7.72c-.78.78-.78 2.05 0 2.83L4 21.41c.39.39.9.59 1.41.59.51 0 1.02-.2 1.41-.59l7.78-7.78 2.81-2.81c.8-.78.8-2.07 0-2.86zM5.41 20L4 18.59l7.72-7.72 1.47 1.35L5.41 20z\"/>\n",
              "  </svg>\n",
              "      </button>\n",
              "      \n",
              "  <style>\n",
              "    .colab-df-container {\n",
              "      display:flex;\n",
              "      flex-wrap:wrap;\n",
              "      gap: 12px;\n",
              "    }\n",
              "\n",
              "    .colab-df-convert {\n",
              "      background-color: #E8F0FE;\n",
              "      border: none;\n",
              "      border-radius: 50%;\n",
              "      cursor: pointer;\n",
              "      display: none;\n",
              "      fill: #1967D2;\n",
              "      height: 32px;\n",
              "      padding: 0 0 0 0;\n",
              "      width: 32px;\n",
              "    }\n",
              "\n",
              "    .colab-df-convert:hover {\n",
              "      background-color: #E2EBFA;\n",
              "      box-shadow: 0px 1px 2px rgba(60, 64, 67, 0.3), 0px 1px 3px 1px rgba(60, 64, 67, 0.15);\n",
              "      fill: #174EA6;\n",
              "    }\n",
              "\n",
              "    [theme=dark] .colab-df-convert {\n",
              "      background-color: #3B4455;\n",
              "      fill: #D2E3FC;\n",
              "    }\n",
              "\n",
              "    [theme=dark] .colab-df-convert:hover {\n",
              "      background-color: #434B5C;\n",
              "      box-shadow: 0px 1px 3px 1px rgba(0, 0, 0, 0.15);\n",
              "      filter: drop-shadow(0px 1px 2px rgba(0, 0, 0, 0.3));\n",
              "      fill: #FFFFFF;\n",
              "    }\n",
              "  </style>\n",
              "\n",
              "      <script>\n",
              "        const buttonEl =\n",
              "          document.querySelector('#df-6fa5b510-ab89-4dde-b274-74967aea83fe button.colab-df-convert');\n",
              "        buttonEl.style.display =\n",
              "          google.colab.kernel.accessAllowed ? 'block' : 'none';\n",
              "\n",
              "        async function convertToInteractive(key) {\n",
              "          const element = document.querySelector('#df-6fa5b510-ab89-4dde-b274-74967aea83fe');\n",
              "          const dataTable =\n",
              "            await google.colab.kernel.invokeFunction('convertToInteractive',\n",
              "                                                     [key], {});\n",
              "          if (!dataTable) return;\n",
              "\n",
              "          const docLinkHtml = 'Like what you see? Visit the ' +\n",
              "            '<a target=\"_blank\" href=https://colab.research.google.com/notebooks/data_table.ipynb>data table notebook</a>'\n",
              "            + ' to learn more about interactive tables.';\n",
              "          element.innerHTML = '';\n",
              "          dataTable['output_type'] = 'display_data';\n",
              "          await google.colab.output.renderOutput(dataTable, element);\n",
              "          const docLink = document.createElement('div');\n",
              "          docLink.innerHTML = docLinkHtml;\n",
              "          element.appendChild(docLink);\n",
              "        }\n",
              "      </script>\n",
              "    </div>\n",
              "  </div>\n",
              "  "
            ]
          },
          "metadata": {},
          "execution_count": 7
        }
      ]
    },
    {
      "cell_type": "markdown",
      "source": [
        "To get the last 10 elements of the given dataset we have used tail and in bracket (10) defines how many elements you want"
      ],
      "metadata": {
        "id": "RSB7BJ7htrjH"
      },
      "id": "RSB7BJ7htrjH"
    },
    {
      "cell_type": "markdown",
      "id": "48baeda6",
      "metadata": {
        "id": "48baeda6"
      },
      "source": [
        "#### Ans 1 b)"
      ]
    },
    {
      "cell_type": "code",
      "execution_count": 8,
      "id": "0ac3ef5d",
      "metadata": {
        "colab": {
          "base_uri": "https://localhost:8080/"
        },
        "id": "0ac3ef5d",
        "outputId": "2563ccda-ee83-405d-c9ee-9ae572912bb3"
      },
      "outputs": [
        {
          "output_type": "execute_result",
          "data": {
            "text/plain": [
              "8906"
            ]
          },
          "metadata": {},
          "execution_count": 8
        }
      ],
      "source": [
        "len(ECom_Data) #For Rows Method 1"
      ]
    },
    {
      "cell_type": "code",
      "source": [
        " len(ECom_Data.columns) #For Columns Method 1"
      ],
      "metadata": {
        "colab": {
          "base_uri": "https://localhost:8080/"
        },
        "id": "oRS903zMsiiL",
        "outputId": "fe81b21c-9953-4503-ad35-450029a0a8fb"
      },
      "id": "oRS903zMsiiL",
      "execution_count": 9,
      "outputs": [
        {
          "output_type": "execute_result",
          "data": {
            "text/plain": [
              "17"
            ]
          },
          "metadata": {},
          "execution_count": 9
        }
      ]
    },
    {
      "cell_type": "markdown",
      "source": [
        "I have used len is used to get the count of rows and column as method 1"
      ],
      "metadata": {
        "id": "G371ZgJWt2rA"
      },
      "id": "G371ZgJWt2rA"
    },
    {
      "cell_type": "code",
      "source": [
        "ECom_Data.shape"
      ],
      "metadata": {
        "colab": {
          "base_uri": "https://localhost:8080/"
        },
        "id": "5q8_l3agwa_y",
        "outputId": "7c83cd3f-955a-47be-cd23-5a4440df9f44"
      },
      "id": "5q8_l3agwa_y",
      "execution_count": 10,
      "outputs": [
        {
          "output_type": "execute_result",
          "data": {
            "text/plain": [
              "(8906, 17)"
            ]
          },
          "metadata": {},
          "execution_count": 10
        }
      ]
    },
    {
      "cell_type": "markdown",
      "source": [
        "Shape is used to get the count of how many rows and columns are there(So i have used it to get the same)"
      ],
      "metadata": {
        "id": "cbrpLEbVuDk1"
      },
      "id": "cbrpLEbVuDk1"
    },
    {
      "cell_type": "markdown",
      "id": "6aaa54a0",
      "metadata": {
        "id": "6aaa54a0"
      },
      "source": [
        "#### Ans  1 c)"
      ]
    },
    {
      "cell_type": "code",
      "execution_count": 11,
      "id": "115627b2",
      "metadata": {
        "colab": {
          "base_uri": "https://localhost:8080/"
        },
        "id": "115627b2",
        "outputId": "d89b55af-94e6-490a-80c3-f42bce9bb019"
      },
      "outputs": [
        {
          "output_type": "stream",
          "name": "stdout",
          "text": [
            "<class 'pandas.core.frame.DataFrame'>\n",
            "RangeIndex: 8906 entries, 0 to 8905\n",
            "Data columns (total 17 columns):\n",
            " #   Column                      Non-Null Count  Dtype  \n",
            "---  ------                      --------------  -----  \n",
            " 0   Customer_uniq_id            8906 non-null   object \n",
            " 1   Region                      8906 non-null   object \n",
            " 2   Order_Date                  8906 non-null   object \n",
            " 3   Expected_Delivery_Date      8906 non-null   object \n",
            " 4   Delivered_Date              8906 non-null   object \n",
            " 5   product_name                8906 non-null   object \n",
            " 6   product_main_category       8906 non-null   object \n",
            " 7   product_subcategory         8906 non-null   object \n",
            " 8   product_category_filter     8906 non-null   object \n",
            " 9   product_category_subfilter  8906 non-null   object \n",
            " 10  product_unique ID           8906 non-null   object \n",
            " 11  retail_price                8906 non-null   int64  \n",
            " 12  discounted_price            8906 non-null   int64  \n",
            " 13  product_rating              8906 non-null   float64\n",
            " 14  Brand                       8906 non-null   object \n",
            " 15  product_specifications      8906 non-null   object \n",
            " 16  description                 8906 non-null   object \n",
            "dtypes: float64(1), int64(2), object(14)\n",
            "memory usage: 1.2+ MB\n"
          ]
        }
      ],
      "source": [
        "ECom_Data.info()"
      ]
    },
    {
      "cell_type": "markdown",
      "source": [
        "To find the datatype i used .info() It tells how many datatype does it have like is it integer,float etc"
      ],
      "metadata": {
        "id": "MbYLAduVuW8y"
      },
      "id": "MbYLAduVuW8y"
    },
    {
      "cell_type": "markdown",
      "id": "5e63573c",
      "metadata": {
        "id": "5e63573c"
      },
      "source": [
        "### Ans 1 d)"
      ]
    },
    {
      "cell_type": "markdown",
      "source": [
        "No"
      ],
      "metadata": {
        "id": "x5w0P5LaBuRQ"
      },
      "id": "x5w0P5LaBuRQ"
    },
    {
      "cell_type": "markdown",
      "source": [
        "No because it doesnot have true/false values in dataset (no boolean values)"
      ],
      "metadata": {
        "id": "ugFP-np9uvCs"
      },
      "id": "ugFP-np9uvCs"
    },
    {
      "cell_type": "markdown",
      "id": "cc5d76f1",
      "metadata": {
        "id": "cc5d76f1"
      },
      "source": [
        "<font color='blue'>\n",
        "    <font size = 5>\n",
        " Once you are familiar with the data, you may decide that not all features are of use to you and you may want to delete the non-informative features (columns)</font>"
      ]
    },
    {
      "cell_type": "markdown",
      "id": "90db65ce",
      "metadata": {
        "id": "90db65ce"
      },
      "source": [
        "## Q 2.\tEliminating the non-informative columns.\n",
        "## a)\tDrop the columns product_specifications and description. (2 marks)\n",
        "## b)\tWhich method or function is used to permanently delete the columns mentioned in part (a)? Write the code explicitly (2 marks)\n",
        "### Note: Use the markdown feature of Python to explain your answer.\n"
      ]
    },
    {
      "cell_type": "markdown",
      "id": "e0e7e762",
      "metadata": {
        "id": "e0e7e762"
      },
      "source": [
        "### Ans 2 a)"
      ]
    },
    {
      "cell_type": "code",
      "source": [
        "ECom_Data.drop('description',inplace=True,axis=1)\n",
        "ECom_Data.drop('product_specifications',inplace=True,axis=1)\n",
        "ECom_Data.info()\n"
      ],
      "metadata": {
        "colab": {
          "base_uri": "https://localhost:8080/"
        },
        "id": "in2AN9zBoP6p",
        "outputId": "4363ad02-7e6c-47ad-bfd1-f6e6f223b86e"
      },
      "id": "in2AN9zBoP6p",
      "execution_count": null,
      "outputs": [
        {
          "output_type": "stream",
          "name": "stdout",
          "text": [
            "<class 'pandas.core.frame.DataFrame'>\n",
            "RangeIndex: 8906 entries, 0 to 8905\n",
            "Data columns (total 15 columns):\n",
            " #   Column                      Non-Null Count  Dtype  \n",
            "---  ------                      --------------  -----  \n",
            " 0   Customer_uniq_id            8906 non-null   object \n",
            " 1   Region                      8906 non-null   object \n",
            " 2   Order_Date                  8906 non-null   object \n",
            " 3   Expected_Delivery_Date      8906 non-null   object \n",
            " 4   Delivered_Date              8906 non-null   object \n",
            " 5   product_name                8906 non-null   object \n",
            " 6   product_main_category       8906 non-null   object \n",
            " 7   product_subcategory         8906 non-null   object \n",
            " 8   product_category_filter     8906 non-null   object \n",
            " 9   product_category_subfilter  8906 non-null   object \n",
            " 10  product_unique ID           8906 non-null   object \n",
            " 11  retail_price                8906 non-null   int64  \n",
            " 12  discounted_price            8906 non-null   int64  \n",
            " 13  product_rating              8906 non-null   float64\n",
            " 14  Brand                       8906 non-null   object \n",
            "dtypes: float64(1), int64(2), object(12)\n",
            "memory usage: 1.0+ MB\n"
          ]
        }
      ]
    },
    {
      "cell_type": "markdown",
      "source": [
        "Drop is used to remove the columns mentioned like description and product_specifications and inplace is used to remove it permanently."
      ],
      "metadata": {
        "id": "57hqQGqCwuEi"
      },
      "id": "57hqQGqCwuEi"
    },
    {
      "cell_type": "markdown",
      "id": "e6159f6a",
      "metadata": {
        "id": "e6159f6a"
      },
      "source": [
        "### Ans 2 b)"
      ]
    },
    {
      "cell_type": "markdown",
      "source": [
        "To permanently delete a column function used in part a is inplace=True by this we can permanently remove the desired columns.\n",
        "So however Drop is used to remove the columns but not permanently. For permanently we must use that inplace=True. By Ecom_Data.info() shows that two column has been dropped earlier it is 17 and now it is 15"
      ],
      "metadata": {
        "id": "Ghf2rZiAwlwh"
      },
      "id": "Ghf2rZiAwlwh"
    },
    {
      "cell_type": "markdown",
      "source": [],
      "metadata": {
        "id": "rnlz2x_fwimf"
      },
      "id": "rnlz2x_fwimf"
    },
    {
      "cell_type": "markdown",
      "id": "cde421e0",
      "metadata": {
        "id": "cde421e0"
      },
      "source": [
        "<font color='blue'>\n",
        "    <font size = 5>\n",
        "        The next steps in this project involves summarization of data at various levels and visualization. Apparently, such simple steps are very useful to get an overall sense of the data.\n",
        "    </font>"
      ]
    },
    {
      "cell_type": "markdown",
      "id": "41c30ad7",
      "metadata": {
        "id": "41c30ad7"
      },
      "source": [
        "## Q 3. Here we summarize the data at Brand level.\n",
        "## a) How many unique Brand are there? (2 marks)\n",
        "## b) Note that each Brand contains multiple products. Show the average product_rating within each Brand (2 marks)\n"
      ]
    },
    {
      "cell_type": "markdown",
      "id": "beb3f83f",
      "metadata": {
        "id": "beb3f83f"
      },
      "source": [
        "### Ans 3 a)"
      ]
    },
    {
      "cell_type": "code",
      "execution_count": 13,
      "id": "41dcb79f",
      "metadata": {
        "id": "41dcb79f",
        "colab": {
          "base_uri": "https://localhost:8080/"
        },
        "outputId": "d6fd23a9-cb3b-46cc-8630-80cb59986aab"
      },
      "outputs": [
        {
          "output_type": "stream",
          "name": "stdout",
          "text": [
            "['INDCROWN' 'SHOPMANIA' 'TIARA DIARIES' ... 'SININA' 'AARUSHI FASHION'\n",
            " 'AMBIKA LAHENGA']\n"
          ]
        }
      ],
      "source": [
        "unique_values=ECom_Data['Brand'].unique()\n",
        "print(unique_values)\n"
      ]
    },
    {
      "cell_type": "markdown",
      "source": [
        "unique describe how many unique brand names are there without any repeated one only the unique values will be showed but for many many(basically the count we use nunique as showed below)"
      ],
      "metadata": {
        "id": "noiJRb6dw39J"
      },
      "id": "noiJRb6dw39J"
    },
    {
      "cell_type": "code",
      "source": [
        "unique_values=ECom_Data['Brand'].nunique()\n",
        "print(unique_values)"
      ],
      "metadata": {
        "colab": {
          "base_uri": "https://localhost:8080/"
        },
        "id": "JZ1IM1N9K4Wp",
        "outputId": "6132dbf8-353a-43fe-cfe4-4d942fcdf9c9"
      },
      "id": "JZ1IM1N9K4Wp",
      "execution_count": 12,
      "outputs": [
        {
          "output_type": "stream",
          "name": "stdout",
          "text": [
            "2484\n"
          ]
        }
      ]
    },
    {
      "cell_type": "markdown",
      "source": [
        "nunique gives how many unique values are there(basically the count)"
      ],
      "metadata": {
        "id": "5RnP3mLTxavv"
      },
      "id": "5RnP3mLTxavv"
    },
    {
      "cell_type": "markdown",
      "id": "5083d866",
      "metadata": {
        "id": "5083d866"
      },
      "source": [
        "### Ans 3 b)"
      ]
    },
    {
      "cell_type": "code",
      "execution_count": null,
      "id": "10018c2c",
      "metadata": {
        "id": "10018c2c",
        "colab": {
          "base_uri": "https://localhost:8080/"
        },
        "outputId": "81b0bad3-a950-4ac1-9250-c9053a3e2f1e"
      },
      "outputs": [
        {
          "output_type": "stream",
          "name": "stdout",
          "text": [
            "Brand\n",
            "1OAK           1.500000\n",
            "3A AUTOCARE    3.268293\n",
            "3D MAT         3.000000\n",
            "3KFACTORY      2.000000\n",
            "4D             3.600000\n",
            "                 ...   \n",
            "ZORDEN         4.000000\n",
            "ZOSIGN         3.400000\n",
            "ZRESTHA        1.000000\n",
            "ZYXEL          3.333333\n",
            " TARKAN        5.000000\n",
            "Name: product_rating, Length: 2484, dtype: float64\n"
          ]
        }
      ],
      "source": [
        "avg=ECom_Data.groupby('Brand')['product_rating'].mean()\n",
        "print(avg)\n"
      ]
    },
    {
      "cell_type": "markdown",
      "source": [
        "It shows the average product rating of each brand so we use mean for getting the average."
      ],
      "metadata": {
        "id": "60IEyI_YxnY_"
      },
      "id": "60IEyI_YxnY_"
    },
    {
      "cell_type": "markdown",
      "id": "bbf162af",
      "metadata": {
        "id": "bbf162af"
      },
      "source": [
        "## Q 4. Next we study the main categories of the products.\n",
        "\n",
        "## a) Create an appropriate plot to show the count of items ordered for each product_main_category. (6 marks).\n",
        "\n",
        "### Hint: Create a bar chart titled \"Product Category type\" where product_main_category are on x-axis and counts are on y-axis.\n",
        "\n",
        "### Note: Both axis labels, i.e. the names of the product_main_category and counts must be clearly legible.\n",
        "\n",
        "## b) From the plot identify for which two product_main_category(s)  maximum and minimum orders were placed. (2 marks)\n",
        "\n",
        "## c) Write code to print out the top 5 product_main_category(s)  in descending order? (3 marks"
      ]
    },
    {
      "cell_type": "markdown",
      "id": "36c72928",
      "metadata": {
        "id": "36c72928"
      },
      "source": [
        "### Ans 4 a)"
      ]
    },
    {
      "cell_type": "code",
      "execution_count": 14,
      "id": "f60dd2c1",
      "metadata": {
        "id": "f60dd2c1",
        "colab": {
          "base_uri": "https://localhost:8080/",
          "height": 599
        },
        "outputId": "19d64e6c-1aff-4345-9f9f-6da03803793d"
      },
      "outputs": [
        {
          "output_type": "display_data",
          "data": {
            "text/plain": [
              "<Figure size 5000x2500 with 1 Axes>"
            ],
            "image/png": "[encoded data removed]"
          },
          "metadata": {}
        }
      ],
      "source": [
        "plt.figure(figsize=(50,25))\n",
        "plt.xlabel('product_main_category')\n",
        "plt.ylabel('counts')\n",
        "sns.countplot(data=ECom_Data,x='product_main_category');"
      ]
    },
    {
      "cell_type": "markdown",
      "source": [
        "X label is used to give the labels on x axis like given in above graph i.e. product_main_category\n",
        "y label is used to give label on y axis to look it more presentable as shown in above graph i.e. count\n",
        "\n",
        "Count plot is being plotted between the two i.e.\n"
      ],
      "metadata": {
        "id": "E8mWZm-fx1T5"
      },
      "id": "E8mWZm-fx1T5"
    },
    {
      "cell_type": "markdown",
      "id": "13a5b355",
      "metadata": {
        "id": "13a5b355"
      },
      "source": [
        "### Ans 4 b)"
      ]
    },
    {
      "cell_type": "markdown",
      "source": [
        "Maximum product main category as refering the above graph is 1)Clothing and 2) is Mobile and accessories\n",
        "\n",
        "Minimum is 1) Wearable Smart Devices and 2) Food and nutrition"
      ],
      "metadata": {
        "id": "ODIbTQ1HxmcL"
      },
      "id": "ODIbTQ1HxmcL"
    },
    {
      "cell_type": "markdown",
      "source": [
        "Ans 4 c)"
      ],
      "metadata": {
        "id": "LCz1JvCny42b"
      },
      "id": "LCz1JvCny42b"
    },
    {
      "cell_type": "code",
      "source": [
        " ECom_Data['product_main_category'].value_counts().head()\n"
      ],
      "metadata": {
        "id": "PE2WTDsyxtBp",
        "colab": {
          "base_uri": "https://localhost:8080/"
        },
        "outputId": "632aec16-e317-4b87-9168-d0096e89b213"
      },
      "id": "PE2WTDsyxtBp",
      "execution_count": 15,
      "outputs": [
        {
          "output_type": "execute_result",
          "data": {
            "text/plain": [
              "Clothing                       2943\n",
              "Mobiles & Accessories          1084\n",
              "Automotive                     1001\n",
              "Home Decor & Festive Needs      727\n",
              "Computers                       558\n",
              "Name: product_main_category, dtype: int64"
            ]
          },
          "metadata": {},
          "execution_count": 15
        }
      ]
    },
    {
      "cell_type": "markdown",
      "source": [
        "Value count is used to get the decscending values of the product main category and head is used to print the first 5 elements of that."
      ],
      "metadata": {
        "id": "LwuWNU5gye8p"
      },
      "id": "LwuWNU5gye8p"
    },
    {
      "cell_type": "markdown",
      "id": "a9f81605",
      "metadata": {
        "id": "a9f81605"
      },
      "source": [
        "<font color='blue'>\n",
        "    <font size = 5>\n",
        "    In E-commerce, both the retailers (here brands) and the company have to make profit to sustain in the business.\n",
        "    The E-Commerce company has the following rule for computing their own revenue: </font>\n",
        "    \n",
        "####     The company charges  \n",
        "####  (i) 25% on the orders having final price (discounted price) greater than 600\n",
        "\n",
        "#### (ii) 15% on the orders having final price (discounted price) greater than 350 but less than or equal to 600\n",
        "\n",
        "#### (iii) 10% on the orders having final price (discounted price) greater than 100 but less than or equal to 350\n",
        "\n",
        "#### (iv) Otherwise, 5% on the final price (discounted price)    </font>"
      ]
    },
    {
      "cell_type": "markdown",
      "id": "0f255fea",
      "metadata": {
        "id": "0f255fea"
      },
      "source": [
        "## Q 5. Find the Total Revenue generated by the E-Commerce company over all orders placed. (6 marks)\n",
        "\n",
        "#### Hint: Calculate revenue of E-commerce company using the conditions mentioned above and then do the total (sum) of all to get total Revenue."
      ]
    },
    {
      "cell_type": "markdown",
      "id": "1f6b8028",
      "metadata": {
        "id": "1f6b8028"
      },
      "source": [
        "### Ans 5"
      ]
    },
    {
      "cell_type": "code",
      "source": [
        "a='discounted_price'"
      ],
      "metadata": {
        "id": "tx9AoF4PYBEZ"
      },
      "id": "tx9AoF4PYBEZ",
      "execution_count": 10,
      "outputs": []
    },
    {
      "cell_type": "markdown",
      "source": [
        "initialize the value of a as discounted price"
      ],
      "metadata": {
        "id": "Qa8m-KyZYYAc"
      },
      "id": "Qa8m-KyZYYAc"
    },
    {
      "cell_type": "code",
      "source": [
        "def calculation(a):\n",
        "  if a >600:\n",
        "    return a*0.25\n",
        "  elif a>350 & a<=650:\n",
        "      return a*0.15\n",
        "  elif a>100 & a<=350:\n",
        "        return a *0.10\n",
        "  else:\n",
        "        return a*0.05"
      ],
      "metadata": {
        "id": "qwaYLjLDYBS5"
      },
      "id": "qwaYLjLDYBS5",
      "execution_count": 11,
      "outputs": []
    },
    {
      "cell_type": "markdown",
      "source": [
        "Give the conditions using the if else statements and done the calculations accordingly as stated in ques about the discount given"
      ],
      "metadata": {
        "id": "kwwslPYBYe73"
      },
      "id": "kwwslPYBYe73"
    },
    {
      "cell_type": "code",
      "source": [
        "ECom_Data['Revenue']=ECom_Data['discounted_price'].apply(calculation)\n",
        "ECom_Data.head()"
      ],
      "metadata": {
        "colab": {
          "base_uri": "https://localhost:8080/",
          "height": 565
        },
        "id": "csUqzHmOYBVY",
        "outputId": "7682f1a4-2200-462e-f2f3-e8344905b75b"
      },
      "id": "csUqzHmOYBVY",
      "execution_count": 12,
      "outputs": [
        {
          "output_type": "execute_result",
          "data": {
            "text/plain": [
              "                   Customer_uniq_id Region  Order_Date Expected_Delivery_Date  \\\n",
              "0  e71017e224688489edfe856f2308806d  East   24-10-2021             25-10-2021   \n",
              "1  6286847ee2da18f587503db49511c539  East   24-10-2021             25-10-2021   \n",
              "2  0686fec9b70e5039583a38119ca0c835   West  24-10-2021             25-10-2021   \n",
              "3  ea2406dc597bee2abb6b867fa668501f   West  24-10-2021             25-10-2021   \n",
              "4  5935ed077915347dc695744df68c565c  East   03-09-2021             04-09-2021   \n",
              "\n",
              "  Delivered_Date                                       product_name  \\\n",
              "0     25-10-2021  Indcrown Net Embroidered Semi-stitched Lehenga...   \n",
              "1     25-10-2021      Shopmania Music Band A5 Notebook Spiral Bound   \n",
              "2     25-10-2021      Shopmania Music Band A5 Notebook Spiral Bound   \n",
              "3     25-10-2021  Tiara Diaries 2016-2017 Designer LA Kaarta \"TA...   \n",
              "4     04-09-2021                KAJCI Embroidered Women's Waistcoat   \n",
              "\n",
              "  product_main_category    product_subcategory product_category_filter  \\\n",
              "0             Clothing       Women's Clothing             Ethnic Wear    \n",
              "1    Pens & Stationery    Diaries & Notebooks               Notebooks    \n",
              "2    Pens & Stationery    Diaries & Notebooks               Notebooks    \n",
              "3    Pens & Stationery    Diaries & Notebooks               Notebooks    \n",
              "4             Clothing       Women's Clothing             Formal Wear    \n",
              "\n",
              "  product_category_subfilter product_unique ID  retail_price  \\\n",
              "0                    Fabric   FABEJX2NHNKCYHKA           999   \n",
              "1                  Designer   DIAEJ6Z8BEDTGGYY           499   \n",
              "2                  Designer   DIAEJ6Z8KQFWDEGH           499   \n",
              "3                  Designer   DIAEJ8FGHZ3K86JU          1000   \n",
              "4                Waistcoats   WSCEG2FYDYFDSVZ6          1200   \n",
              "\n",
              "   discounted_price  product_rating          Brand  \\\n",
              "0               699             4.0       INDCROWN   \n",
              "1               275             1.0      SHOPMANIA   \n",
              "2               275             2.0      SHOPMANIA   \n",
              "3               837             3.0  TIARA DIARIES   \n",
              "4               699             5.0          KAJCI   \n",
              "\n",
              "                              product_specifications  \\\n",
              "0  {\"product_specification\"=>[{\"key\"=>\"Fabric\", \"...   \n",
              "1  {\"product_specification\"=>[{\"key\"=>\"Ruling\", \"...   \n",
              "2  {\"product_specification\"=>[{\"key\"=>\"Ruling\", \"...   \n",
              "3  {\"product_specification\"=>[{\"key\"=>\"Ruling\", \"...   \n",
              "4  {\"product_specification\"=>[{\"key\"=>\"Pattern\", ...   \n",
              "\n",
              "                                         description  Revenue  \n",
              "0  Key Features of Indcrown Net Embroidered Semi-...   174.75  \n",
              "1  Specifications of Shopmania Music Band A5 Note...    41.25  \n",
              "2  Specifications of Shopmania Music Band A5 Note...    41.25  \n",
              "3  Specifications of Tiara Diaries 2016-2017 Desi...   209.25  \n",
              "4  Specifications of KAJCI Embroidered Women's Wa...   174.75  "
            ],
            "text/html": [
              "\n",
              "  <div id=\"df-96135cd6-c22b-4a68-b708-72a3b35dcbe3\">\n",
              "    <div class=\"colab-df-container\">\n",
              "      <div>\n",
              "<style scoped>\n",
              "    .dataframe tbody tr th:only-of-type {\n",
              "        vertical-align: middle;\n",
              "    }\n",
              "\n",
              "    .dataframe tbody tr th {\n",
              "        vertical-align: top;\n",
              "    }\n",
              "\n",
              "    .dataframe thead th {\n",
              "        text-align: right;\n",
              "    }\n",
              "</style>\n",
              "<table border=\"1\" class=\"dataframe\">\n",
              "  <thead>\n",
              "    <tr style=\"text-align: right;\">\n",
              "      <th></th>\n",
              "      <th>Customer_uniq_id</th>\n",
              "      <th>Region</th>\n",
              "      <th>Order_Date</th>\n",
              "      <th>Expected_Delivery_Date</th>\n",
              "      <th>Delivered_Date</th>\n",
              "      <th>product_name</th>\n",
              "      <th>product_main_category</th>\n",
              "      <th>product_subcategory</th>\n",
              "      <th>product_category_filter</th>\n",
              "      <th>product_category_subfilter</th>\n",
              "      <th>product_unique ID</th>\n",
              "      <th>retail_price</th>\n",
              "      <th>discounted_price</th>\n",
              "      <th>product_rating</th>\n",
              "      <th>Brand</th>\n",
              "      <th>product_specifications</th>\n",
              "      <th>description</th>\n",
              "      <th>Revenue</th>\n",
              "    </tr>\n",
              "  </thead>\n",
              "  <tbody>\n",
              "    <tr>\n",
              "      <th>0</th>\n",
              "      <td>e71017e224688489edfe856f2308806d</td>\n",
              "      <td>East</td>\n",
              "      <td>24-10-2021</td>\n",
              "      <td>25-10-2021</td>\n",
              "      <td>25-10-2021</td>\n",
              "      <td>Indcrown Net Embroidered Semi-stitched Lehenga...</td>\n",
              "      <td>Clothing</td>\n",
              "      <td>Women's Clothing</td>\n",
              "      <td>Ethnic Wear</td>\n",
              "      <td>Fabric</td>\n",
              "      <td>FABEJX2NHNKCYHKA</td>\n",
              "      <td>999</td>\n",
              "      <td>699</td>\n",
              "      <td>4.0</td>\n",
              "      <td>INDCROWN</td>\n",
              "      <td>{\"product_specification\"=&gt;[{\"key\"=&gt;\"Fabric\", \"...</td>\n",
              "      <td>Key Features of Indcrown Net Embroidered Semi-...</td>\n",
              "      <td>174.75</td>\n",
              "    </tr>\n",
              "    <tr>\n",
              "      <th>1</th>\n",
              "      <td>6286847ee2da18f587503db49511c539</td>\n",
              "      <td>East</td>\n",
              "      <td>24-10-2021</td>\n",
              "      <td>25-10-2021</td>\n",
              "      <td>25-10-2021</td>\n",
              "      <td>Shopmania Music Band A5 Notebook Spiral Bound</td>\n",
              "      <td>Pens &amp; Stationery</td>\n",
              "      <td>Diaries &amp; Notebooks</td>\n",
              "      <td>Notebooks</td>\n",
              "      <td>Designer</td>\n",
              "      <td>DIAEJ6Z8BEDTGGYY</td>\n",
              "      <td>499</td>\n",
              "      <td>275</td>\n",
              "      <td>1.0</td>\n",
              "      <td>SHOPMANIA</td>\n",
              "      <td>{\"product_specification\"=&gt;[{\"key\"=&gt;\"Ruling\", \"...</td>\n",
              "      <td>Specifications of Shopmania Music Band A5 Note...</td>\n",
              "      <td>41.25</td>\n",
              "    </tr>\n",
              "    <tr>\n",
              "      <th>2</th>\n",
              "      <td>0686fec9b70e5039583a38119ca0c835</td>\n",
              "      <td>West</td>\n",
              "      <td>24-10-2021</td>\n",
              "      <td>25-10-2021</td>\n",
              "      <td>25-10-2021</td>\n",
              "      <td>Shopmania Music Band A5 Notebook Spiral Bound</td>\n",
              "      <td>Pens &amp; Stationery</td>\n",
              "      <td>Diaries &amp; Notebooks</td>\n",
              "      <td>Notebooks</td>\n",
              "      <td>Designer</td>\n",
              "      <td>DIAEJ6Z8KQFWDEGH</td>\n",
              "      <td>499</td>\n",
              "      <td>275</td>\n",
              "      <td>2.0</td>\n",
              "      <td>SHOPMANIA</td>\n",
              "      <td>{\"product_specification\"=&gt;[{\"key\"=&gt;\"Ruling\", \"...</td>\n",
              "      <td>Specifications of Shopmania Music Band A5 Note...</td>\n",
              "      <td>41.25</td>\n",
              "    </tr>\n",
              "    <tr>\n",
              "      <th>3</th>\n",
              "      <td>ea2406dc597bee2abb6b867fa668501f</td>\n",
              "      <td>West</td>\n",
              "      <td>24-10-2021</td>\n",
              "      <td>25-10-2021</td>\n",
              "      <td>25-10-2021</td>\n",
              "      <td>Tiara Diaries 2016-2017 Designer LA Kaarta \"TA...</td>\n",
              "      <td>Pens &amp; Stationery</td>\n",
              "      <td>Diaries &amp; Notebooks</td>\n",
              "      <td>Notebooks</td>\n",
              "      <td>Designer</td>\n",
              "      <td>DIAEJ8FGHZ3K86JU</td>\n",
              "      <td>1000</td>\n",
              "      <td>837</td>\n",
              "      <td>3.0</td>\n",
              "      <td>TIARA DIARIES</td>\n",
              "      <td>{\"product_specification\"=&gt;[{\"key\"=&gt;\"Ruling\", \"...</td>\n",
              "      <td>Specifications of Tiara Diaries 2016-2017 Desi...</td>\n",
              "      <td>209.25</td>\n",
              "    </tr>\n",
              "    <tr>\n",
              "      <th>4</th>\n",
              "      <td>5935ed077915347dc695744df68c565c</td>\n",
              "      <td>East</td>\n",
              "      <td>03-09-2021</td>\n",
              "      <td>04-09-2021</td>\n",
              "      <td>04-09-2021</td>\n",
              "      <td>KAJCI Embroidered Women's Waistcoat</td>\n",
              "      <td>Clothing</td>\n",
              "      <td>Women's Clothing</td>\n",
              "      <td>Formal Wear</td>\n",
              "      <td>Waistcoats</td>\n",
              "      <td>WSCEG2FYDYFDSVZ6</td>\n",
              "      <td>1200</td>\n",
              "      <td>699</td>\n",
              "      <td>5.0</td>\n",
              "      <td>KAJCI</td>\n",
              "      <td>{\"product_specification\"=&gt;[{\"key\"=&gt;\"Pattern\", ...</td>\n",
              "      <td>Specifications of KAJCI Embroidered Women's Wa...</td>\n",
              "      <td>174.75</td>\n",
              "    </tr>\n",
              "  </tbody>\n",
              "</table>\n",
              "</div>\n",
              "      <button class=\"colab-df-convert\" onclick=\"convertToInteractive('df-96135cd6-c22b-4a68-b708-72a3b35dcbe3')\"\n",
              "              title=\"Convert this dataframe to an interactive table.\"\n",
              "              style=\"display:none;\">\n",
              "        \n",
              "  <svg xmlns=\"http://www.w3.org/2000/svg\" height=\"24px\"viewBox=\"0 0 24 24\"\n",
              "       width=\"24px\">\n",
              "    <path d=\"M0 0h24v24H0V0z\" fill=\"none\"/>\n",
              "    <path d=\"M18.56 5.44l.94 2.06.94-2.06 2.06-.94-2.06-.94-.94-2.06-.94 2.06-2.06.94zm-11 1L8.5 8.5l.94-2.06 2.06-.94-2.06-.94L8.5 2.5l-.94 2.06-2.06.94zm10 10l.94 2.06.94-2.06 2.06-.94-2.06-.94-.94-2.06-.94 2.06-2.06.94z\"/><path d=\"M17.41 7.96l-1.37-1.37c-.4-.4-.92-.59-1.43-.59-.52 0-1.04.2-1.43.59L10.3 9.45l-7.72 7.72c-.78.78-.78 2.05 0 2.83L4 21.41c.39.39.9.59 1.41.59.51 0 1.02-.2 1.41-.59l7.78-7.78 2.81-2.81c.8-.78.8-2.07 0-2.86zM5.41 20L4 18.59l7.72-7.72 1.47 1.35L5.41 20z\"/>\n",
              "  </svg>\n",
              "      </button>\n",
              "      \n",
              "  <style>\n",
              "    .colab-df-container {\n",
              "      display:flex;\n",
              "      flex-wrap:wrap;\n",
              "      gap: 12px;\n",
              "    }\n",
              "\n",
              "    .colab-df-convert {\n",
              "      background-color: #E8F0FE;\n",
              "      border: none;\n",
              "      border-radius: 50%;\n",
              "      cursor: pointer;\n",
              "      display: none;\n",
              "      fill: #1967D2;\n",
              "      height: 32px;\n",
              "      padding: 0 0 0 0;\n",
              "      width: 32px;\n",
              "    }\n",
              "\n",
              "    .colab-df-convert:hover {\n",
              "      background-color: #E2EBFA;\n",
              "      box-shadow: 0px 1px 2px rgba(60, 64, 67, 0.3), 0px 1px 3px 1px rgba(60, 64, 67, 0.15);\n",
              "      fill: #174EA6;\n",
              "    }\n",
              "\n",
              "    [theme=dark] .colab-df-convert {\n",
              "      background-color: #3B4455;\n",
              "      fill: #D2E3FC;\n",
              "    }\n",
              "\n",
              "    [theme=dark] .colab-df-convert:hover {\n",
              "      background-color: #434B5C;\n",
              "      box-shadow: 0px 1px 3px 1px rgba(0, 0, 0, 0.15);\n",
              "      filter: drop-shadow(0px 1px 2px rgba(0, 0, 0, 0.3));\n",
              "      fill: #FFFFFF;\n",
              "    }\n",
              "  </style>\n",
              "\n",
              "      <script>\n",
              "        const buttonEl =\n",
              "          document.querySelector('#df-96135cd6-c22b-4a68-b708-72a3b35dcbe3 button.colab-df-convert');\n",
              "        buttonEl.style.display =\n",
              "          google.colab.kernel.accessAllowed ? 'block' : 'none';\n",
              "\n",
              "        async function convertToInteractive(key) {\n",
              "          const element = document.querySelector('#df-96135cd6-c22b-4a68-b708-72a3b35dcbe3');\n",
              "          const dataTable =\n",
              "            await google.colab.kernel.invokeFunction('convertToInteractive',\n",
              "                                                     [key], {});\n",
              "          if (!dataTable) return;\n",
              "\n",
              "          const docLinkHtml = 'Like what you see? Visit the ' +\n",
              "            '<a target=\"_blank\" href=https://colab.research.google.com/notebooks/data_table.ipynb>data table notebook</a>'\n",
              "            + ' to learn more about interactive tables.';\n",
              "          element.innerHTML = '';\n",
              "          dataTable['output_type'] = 'display_data';\n",
              "          await google.colab.output.renderOutput(dataTable, element);\n",
              "          const docLink = document.createElement('div');\n",
              "          docLink.innerHTML = docLinkHtml;\n",
              "          element.appendChild(docLink);\n",
              "        }\n",
              "      </script>\n",
              "    </div>\n",
              "  </div>\n",
              "  "
            ]
          },
          "metadata": {},
          "execution_count": 12
        }
      ]
    },
    {
      "cell_type": "markdown",
      "source": [
        "added the revenue column in ECom_Data and Displayed the revenue column"
      ],
      "metadata": {
        "id": "sm1XYcb8YqUg"
      },
      "id": "sm1XYcb8YqUg"
    },
    {
      "cell_type": "code",
      "source": [
        "Revenue=ECom_Data['discounted_price'].apply(calculation)\n",
        "Revenue"
      ],
      "metadata": {
        "colab": {
          "base_uri": "https://localhost:8080/"
        },
        "id": "6oLxprSlYBYB",
        "outputId": "da9b3a01-c735-436b-d101-b44c6f58d5ab"
      },
      "id": "6oLxprSlYBYB",
      "execution_count": 13,
      "outputs": [
        {
          "output_type": "execute_result",
          "data": {
            "text/plain": [
              "0        174.75\n",
              "1         41.25\n",
              "2         41.25\n",
              "3        209.25\n",
              "4        174.75\n",
              "         ...   \n",
              "8901     372.50\n",
              "8902     325.00\n",
              "8903    6248.75\n",
              "8904     250.00\n",
              "8905     337.50\n",
              "Name: discounted_price, Length: 8906, dtype: float64"
            ]
          },
          "metadata": {},
          "execution_count": 13
        }
      ]
    },
    {
      "cell_type": "markdown",
      "source": [
        "Basically displaying the revenue column like given above 174.75 ....\n",
        "and 0 ....8905 is the index values"
      ],
      "metadata": {
        "id": "BilkQZydYo99"
      },
      "id": "BilkQZydYo99"
    },
    {
      "cell_type": "code",
      "execution_count": 20,
      "id": "c62d888f",
      "metadata": {
        "id": "c62d888f",
        "colab": {
          "base_uri": "https://localhost:8080/"
        },
        "outputId": "749868a9-db63-4c87-c74a-ed52b66a997f"
      },
      "outputs": [
        {
          "output_type": "execute_result",
          "data": {
            "text/plain": [
              "2243196.05"
            ]
          },
          "metadata": {},
          "execution_count": 20
        }
      ],
      "source": [
        "ECom_Data['Revenue'].sum()"
      ]
    },
    {
      "cell_type": "markdown",
      "source": [
        "Calculated the total sum of all the total revenue as calculated above"
      ],
      "metadata": {
        "id": "Bq_xJPlTX4km"
      },
      "id": "Bq_xJPlTX4km"
    },
    {
      "cell_type": "markdown",
      "id": "9161ca8c",
      "metadata": {
        "id": "9161ca8c"
      },
      "source": [
        "<font color='blue'>\n",
        "    <font size = 5>\n",
        "    Now you need to find the revenue for each retailer (Brand)\n",
        "    </font>"
      ]
    },
    {
      "cell_type": "markdown",
      "id": "73dd23c3",
      "metadata": {
        "id": "73dd23c3"
      },
      "source": [
        "## Q6.Calculate the total BrandRevenue and list the top 10 Brand having maximum revenue in descending order (6 marks)\n",
        "#### Hint: Total BrandRevenue is BrandRevenue which is generated after all the deductions. Also, BrandRevenue is different from the E-Commerce company's revenue.\n",
        "#### Brand Revenue is the discounted price minus the Revenue (generated using the conditions given above Q5)\n"
      ]
    },
    {
      "cell_type": "markdown",
      "id": "3514fa79",
      "metadata": {
        "id": "3514fa79"
      },
      "source": [
        "### Ans 6"
      ]
    },
    {
      "cell_type": "code",
      "execution_count": 35,
      "id": "437c69b5",
      "metadata": {
        "id": "437c69b5",
        "colab": {
          "base_uri": "https://localhost:8080/",
          "height": 565
        },
        "outputId": "9da196c0-9612-4c5c-de25-73650ff0e995"
      },
      "outputs": [
        {
          "output_type": "execute_result",
          "data": {
            "text/plain": [
              "                   Customer_uniq_id Region  Order_Date Expected_Delivery_Date  \\\n",
              "0  e71017e224688489edfe856f2308806d  East   24-10-2021             25-10-2021   \n",
              "1  6286847ee2da18f587503db49511c539  East   24-10-2021             25-10-2021   \n",
              "2  0686fec9b70e5039583a38119ca0c835   West  24-10-2021             25-10-2021   \n",
              "3  ea2406dc597bee2abb6b867fa668501f   West  24-10-2021             25-10-2021   \n",
              "4  5935ed077915347dc695744df68c565c  East   03-09-2021             04-09-2021   \n",
              "\n",
              "  Delivered_Date                                       product_name  \\\n",
              "0     25-10-2021  Indcrown Net Embroidered Semi-stitched Lehenga...   \n",
              "1     25-10-2021      Shopmania Music Band A5 Notebook Spiral Bound   \n",
              "2     25-10-2021      Shopmania Music Band A5 Notebook Spiral Bound   \n",
              "3     25-10-2021  Tiara Diaries 2016-2017 Designer LA Kaarta \"TA...   \n",
              "4     04-09-2021                KAJCI Embroidered Women's Waistcoat   \n",
              "\n",
              "  product_main_category    product_subcategory product_category_filter  \\\n",
              "0             Clothing       Women's Clothing             Ethnic Wear    \n",
              "1    Pens & Stationery    Diaries & Notebooks               Notebooks    \n",
              "2    Pens & Stationery    Diaries & Notebooks               Notebooks    \n",
              "3    Pens & Stationery    Diaries & Notebooks               Notebooks    \n",
              "4             Clothing       Women's Clothing             Formal Wear    \n",
              "\n",
              "  product_category_subfilter product_unique ID  retail_price  \\\n",
              "0                    Fabric   FABEJX2NHNKCYHKA           999   \n",
              "1                  Designer   DIAEJ6Z8BEDTGGYY           499   \n",
              "2                  Designer   DIAEJ6Z8KQFWDEGH           499   \n",
              "3                  Designer   DIAEJ8FGHZ3K86JU          1000   \n",
              "4                Waistcoats   WSCEG2FYDYFDSVZ6          1200   \n",
              "\n",
              "   discounted_price  product_rating          Brand  \\\n",
              "0               699             4.0       INDCROWN   \n",
              "1               275             1.0      SHOPMANIA   \n",
              "2               275             2.0      SHOPMANIA   \n",
              "3               837             3.0  TIARA DIARIES   \n",
              "4               699             5.0          KAJCI   \n",
              "\n",
              "                              product_specifications  \\\n",
              "0  {\"product_specification\"=>[{\"key\"=>\"Fabric\", \"...   \n",
              "1  {\"product_specification\"=>[{\"key\"=>\"Ruling\", \"...   \n",
              "2  {\"product_specification\"=>[{\"key\"=>\"Ruling\", \"...   \n",
              "3  {\"product_specification\"=>[{\"key\"=>\"Ruling\", \"...   \n",
              "4  {\"product_specification\"=>[{\"key\"=>\"Pattern\", ...   \n",
              "\n",
              "                                         description  Revenue  Brand_Revenue  \n",
              "0  Key Features of Indcrown Net Embroidered Semi-...   174.75         524.25  \n",
              "1  Specifications of Shopmania Music Band A5 Note...    41.25         233.75  \n",
              "2  Specifications of Shopmania Music Band A5 Note...    41.25         233.75  \n",
              "3  Specifications of Tiara Diaries 2016-2017 Desi...   209.25         627.75  \n",
              "4  Specifications of KAJCI Embroidered Women's Wa...   174.75         524.25  "
            ],
            "text/html": [
              "\n",
              "  <div id=\"df-c7f193ce-bedc-451c-a769-b820a0f4618e\">\n",
              "    <div class=\"colab-df-container\">\n",
              "      <div>\n",
              "<style scoped>\n",
              "    .dataframe tbody tr th:only-of-type {\n",
              "        vertical-align: middle;\n",
              "    }\n",
              "\n",
              "    .dataframe tbody tr th {\n",
              "        vertical-align: top;\n",
              "    }\n",
              "\n",
              "    .dataframe thead th {\n",
              "        text-align: right;\n",
              "    }\n",
              "</style>\n",
              "<table border=\"1\" class=\"dataframe\">\n",
              "  <thead>\n",
              "    <tr style=\"text-align: right;\">\n",
              "      <th></th>\n",
              "      <th>Customer_uniq_id</th>\n",
              "      <th>Region</th>\n",
              "      <th>Order_Date</th>\n",
              "      <th>Expected_Delivery_Date</th>\n",
              "      <th>Delivered_Date</th>\n",
              "      <th>product_name</th>\n",
              "      <th>product_main_category</th>\n",
              "      <th>product_subcategory</th>\n",
              "      <th>product_category_filter</th>\n",
              "      <th>product_category_subfilter</th>\n",
              "      <th>product_unique ID</th>\n",
              "      <th>retail_price</th>\n",
              "      <th>discounted_price</th>\n",
              "      <th>product_rating</th>\n",
              "      <th>Brand</th>\n",
              "      <th>product_specifications</th>\n",
              "      <th>description</th>\n",
              "      <th>Revenue</th>\n",
              "      <th>Brand_Revenue</th>\n",
              "    </tr>\n",
              "  </thead>\n",
              "  <tbody>\n",
              "    <tr>\n",
              "      <th>0</th>\n",
              "      <td>e71017e224688489edfe856f2308806d</td>\n",
              "      <td>East</td>\n",
              "      <td>24-10-2021</td>\n",
              "      <td>25-10-2021</td>\n",
              "      <td>25-10-2021</td>\n",
              "      <td>Indcrown Net Embroidered Semi-stitched Lehenga...</td>\n",
              "      <td>Clothing</td>\n",
              "      <td>Women's Clothing</td>\n",
              "      <td>Ethnic Wear</td>\n",
              "      <td>Fabric</td>\n",
              "      <td>FABEJX2NHNKCYHKA</td>\n",
              "      <td>999</td>\n",
              "      <td>699</td>\n",
              "      <td>4.0</td>\n",
              "      <td>INDCROWN</td>\n",
              "      <td>{\"product_specification\"=&gt;[{\"key\"=&gt;\"Fabric\", \"...</td>\n",
              "      <td>Key Features of Indcrown Net Embroidered Semi-...</td>\n",
              "      <td>174.75</td>\n",
              "      <td>524.25</td>\n",
              "    </tr>\n",
              "    <tr>\n",
              "      <th>1</th>\n",
              "      <td>6286847ee2da18f587503db49511c539</td>\n",
              "      <td>East</td>\n",
              "      <td>24-10-2021</td>\n",
              "      <td>25-10-2021</td>\n",
              "      <td>25-10-2021</td>\n",
              "      <td>Shopmania Music Band A5 Notebook Spiral Bound</td>\n",
              "      <td>Pens &amp; Stationery</td>\n",
              "      <td>Diaries &amp; Notebooks</td>\n",
              "      <td>Notebooks</td>\n",
              "      <td>Designer</td>\n",
              "      <td>DIAEJ6Z8BEDTGGYY</td>\n",
              "      <td>499</td>\n",
              "      <td>275</td>\n",
              "      <td>1.0</td>\n",
              "      <td>SHOPMANIA</td>\n",
              "      <td>{\"product_specification\"=&gt;[{\"key\"=&gt;\"Ruling\", \"...</td>\n",
              "      <td>Specifications of Shopmania Music Band A5 Note...</td>\n",
              "      <td>41.25</td>\n",
              "      <td>233.75</td>\n",
              "    </tr>\n",
              "    <tr>\n",
              "      <th>2</th>\n",
              "      <td>0686fec9b70e5039583a38119ca0c835</td>\n",
              "      <td>West</td>\n",
              "      <td>24-10-2021</td>\n",
              "      <td>25-10-2021</td>\n",
              "      <td>25-10-2021</td>\n",
              "      <td>Shopmania Music Band A5 Notebook Spiral Bound</td>\n",
              "      <td>Pens &amp; Stationery</td>\n",
              "      <td>Diaries &amp; Notebooks</td>\n",
              "      <td>Notebooks</td>\n",
              "      <td>Designer</td>\n",
              "      <td>DIAEJ6Z8KQFWDEGH</td>\n",
              "      <td>499</td>\n",
              "      <td>275</td>\n",
              "      <td>2.0</td>\n",
              "      <td>SHOPMANIA</td>\n",
              "      <td>{\"product_specification\"=&gt;[{\"key\"=&gt;\"Ruling\", \"...</td>\n",
              "      <td>Specifications of Shopmania Music Band A5 Note...</td>\n",
              "      <td>41.25</td>\n",
              "      <td>233.75</td>\n",
              "    </tr>\n",
              "    <tr>\n",
              "      <th>3</th>\n",
              "      <td>ea2406dc597bee2abb6b867fa668501f</td>\n",
              "      <td>West</td>\n",
              "      <td>24-10-2021</td>\n",
              "      <td>25-10-2021</td>\n",
              "      <td>25-10-2021</td>\n",
              "      <td>Tiara Diaries 2016-2017 Designer LA Kaarta \"TA...</td>\n",
              "      <td>Pens &amp; Stationery</td>\n",
              "      <td>Diaries &amp; Notebooks</td>\n",
              "      <td>Notebooks</td>\n",
              "      <td>Designer</td>\n",
              "      <td>DIAEJ8FGHZ3K86JU</td>\n",
              "      <td>1000</td>\n",
              "      <td>837</td>\n",
              "      <td>3.0</td>\n",
              "      <td>TIARA DIARIES</td>\n",
              "      <td>{\"product_specification\"=&gt;[{\"key\"=&gt;\"Ruling\", \"...</td>\n",
              "      <td>Specifications of Tiara Diaries 2016-2017 Desi...</td>\n",
              "      <td>209.25</td>\n",
              "      <td>627.75</td>\n",
              "    </tr>\n",
              "    <tr>\n",
              "      <th>4</th>\n",
              "      <td>5935ed077915347dc695744df68c565c</td>\n",
              "      <td>East</td>\n",
              "      <td>03-09-2021</td>\n",
              "      <td>04-09-2021</td>\n",
              "      <td>04-09-2021</td>\n",
              "      <td>KAJCI Embroidered Women's Waistcoat</td>\n",
              "      <td>Clothing</td>\n",
              "      <td>Women's Clothing</td>\n",
              "      <td>Formal Wear</td>\n",
              "      <td>Waistcoats</td>\n",
              "      <td>WSCEG2FYDYFDSVZ6</td>\n",
              "      <td>1200</td>\n",
              "      <td>699</td>\n",
              "      <td>5.0</td>\n",
              "      <td>KAJCI</td>\n",
              "      <td>{\"product_specification\"=&gt;[{\"key\"=&gt;\"Pattern\", ...</td>\n",
              "      <td>Specifications of KAJCI Embroidered Women's Wa...</td>\n",
              "      <td>174.75</td>\n",
              "      <td>524.25</td>\n",
              "    </tr>\n",
              "  </tbody>\n",
              "</table>\n",
              "</div>\n",
              "      <button class=\"colab-df-convert\" onclick=\"convertToInteractive('df-c7f193ce-bedc-451c-a769-b820a0f4618e')\"\n",
              "              title=\"Convert this dataframe to an interactive table.\"\n",
              "              style=\"display:none;\">\n",
              "        \n",
              "  <svg xmlns=\"http://www.w3.org/2000/svg\" height=\"24px\"viewBox=\"0 0 24 24\"\n",
              "       width=\"24px\">\n",
              "    <path d=\"M0 0h24v24H0V0z\" fill=\"none\"/>\n",
              "    <path d=\"M18.56 5.44l.94 2.06.94-2.06 2.06-.94-2.06-.94-.94-2.06-.94 2.06-2.06.94zm-11 1L8.5 8.5l.94-2.06 2.06-.94-2.06-.94L8.5 2.5l-.94 2.06-2.06.94zm10 10l.94 2.06.94-2.06 2.06-.94-2.06-.94-.94-2.06-.94 2.06-2.06.94z\"/><path d=\"M17.41 7.96l-1.37-1.37c-.4-.4-.92-.59-1.43-.59-.52 0-1.04.2-1.43.59L10.3 9.45l-7.72 7.72c-.78.78-.78 2.05 0 2.83L4 21.41c.39.39.9.59 1.41.59.51 0 1.02-.2 1.41-.59l7.78-7.78 2.81-2.81c.8-.78.8-2.07 0-2.86zM5.41 20L4 18.59l7.72-7.72 1.47 1.35L5.41 20z\"/>\n",
              "  </svg>\n",
              "      </button>\n",
              "      \n",
              "  <style>\n",
              "    .colab-df-container {\n",
              "      display:flex;\n",
              "      flex-wrap:wrap;\n",
              "      gap: 12px;\n",
              "    }\n",
              "\n",
              "    .colab-df-convert {\n",
              "      background-color: #E8F0FE;\n",
              "      border: none;\n",
              "      border-radius: 50%;\n",
              "      cursor: pointer;\n",
              "      display: none;\n",
              "      fill: #1967D2;\n",
              "      height: 32px;\n",
              "      padding: 0 0 0 0;\n",
              "      width: 32px;\n",
              "    }\n",
              "\n",
              "    .colab-df-convert:hover {\n",
              "      background-color: #E2EBFA;\n",
              "      box-shadow: 0px 1px 2px rgba(60, 64, 67, 0.3), 0px 1px 3px 1px rgba(60, 64, 67, 0.15);\n",
              "      fill: #174EA6;\n",
              "    }\n",
              "\n",
              "    [theme=dark] .colab-df-convert {\n",
              "      background-color: #3B4455;\n",
              "      fill: #D2E3FC;\n",
              "    }\n",
              "\n",
              "    [theme=dark] .colab-df-convert:hover {\n",
              "      background-color: #434B5C;\n",
              "      box-shadow: 0px 1px 3px 1px rgba(0, 0, 0, 0.15);\n",
              "      filter: drop-shadow(0px 1px 2px rgba(0, 0, 0, 0.3));\n",
              "      fill: #FFFFFF;\n",
              "    }\n",
              "  </style>\n",
              "\n",
              "      <script>\n",
              "        const buttonEl =\n",
              "          document.querySelector('#df-c7f193ce-bedc-451c-a769-b820a0f4618e button.colab-df-convert');\n",
              "        buttonEl.style.display =\n",
              "          google.colab.kernel.accessAllowed ? 'block' : 'none';\n",
              "\n",
              "        async function convertToInteractive(key) {\n",
              "          const element = document.querySelector('#df-c7f193ce-bedc-451c-a769-b820a0f4618e');\n",
              "          const dataTable =\n",
              "            await google.colab.kernel.invokeFunction('convertToInteractive',\n",
              "                                                     [key], {});\n",
              "          if (!dataTable) return;\n",
              "\n",
              "          const docLinkHtml = 'Like what you see? Visit the ' +\n",
              "            '<a target=\"_blank\" href=https://colab.research.google.com/notebooks/data_table.ipynb>data table notebook</a>'\n",
              "            + ' to learn more about interactive tables.';\n",
              "          element.innerHTML = '';\n",
              "          dataTable['output_type'] = 'display_data';\n",
              "          await google.colab.output.renderOutput(dataTable, element);\n",
              "          const docLink = document.createElement('div');\n",
              "          docLink.innerHTML = docLinkHtml;\n",
              "          element.appendChild(docLink);\n",
              "        }\n",
              "      </script>\n",
              "    </div>\n",
              "  </div>\n",
              "  "
            ]
          },
          "metadata": {},
          "execution_count": 35
        }
      ],
      "source": [
        "ECom_Data['Brand_Revenue']=ECom_Data['discounted_price']-ECom_Data['Revenue']\n",
        "ECom_Data.head()\n"
      ]
    },
    {
      "cell_type": "markdown",
      "source": [
        "Calculated the brand revnue by subtracting the  discounted price and the Revenue and displayed the starting 5 using head"
      ],
      "metadata": {
        "id": "wB4Sf1BqZZVy"
      },
      "id": "wB4Sf1BqZZVy"
    },
    {
      "cell_type": "code",
      "source": [
        "ECom_Data['Brand_Revenue'].sum()"
      ],
      "metadata": {
        "colab": {
          "base_uri": "https://localhost:8080/"
        },
        "id": "BND2RfQn0C0k",
        "outputId": "15f96745-18ea-41f9-afc1-0a216f5dd3fe"
      },
      "id": "BND2RfQn0C0k",
      "execution_count": 36,
      "outputs": [
        {
          "output_type": "execute_result",
          "data": {
            "text/plain": [
              "7497282.949999999"
            ]
          },
          "metadata": {},
          "execution_count": 36
        }
      ]
    },
    {
      "cell_type": "markdown",
      "source": [
        "Calculated the sum of the brand revenue"
      ],
      "metadata": {
        "id": "9DI6ZLAKZ2zS"
      },
      "id": "9DI6ZLAKZ2zS"
    },
    {
      "cell_type": "code",
      "source": [
        "ECom_Data.groupby('Brand')[['Brand_Revenue']].value_counts().head(10)"
      ],
      "metadata": {
        "colab": {
          "base_uri": "https://localhost:8080/"
        },
        "id": "Hux6ohmi0NrS",
        "outputId": "2aa7b770-4255-4a14-9cf1-2c6a41bb23b9"
      },
      "id": "Hux6ohmi0NrS",
      "execution_count": 38,
      "outputs": [
        {
          "output_type": "execute_result",
          "data": {
            "text/plain": [
              "Brand        Brand_Revenue\n",
              "1OAK         506.25            1\n",
              "             509.15            1\n",
              "3A AUTOCARE  1117.50          12\n",
              "             1095.00           5\n",
              "             2062.50           3\n",
              "             1687.50           3\n",
              "             1312.50           3\n",
              "             1987.50           2\n",
              "             1342.50           2\n",
              "             1417.50           2\n",
              "dtype: int64"
            ]
          },
          "metadata": {},
          "execution_count": 38
        }
      ]
    },
    {
      "cell_type": "markdown",
      "source": [
        "Displayed the list the of top 10 Brand having maximum revenue in descending order\n",
        "\n"
      ],
      "metadata": {
        "id": "QS_7bAxTZ9U0"
      },
      "id": "QS_7bAxTZ9U0"
    },
    {
      "cell_type": "markdown",
      "id": "2a2bbd83",
      "metadata": {
        "id": "2a2bbd83"
      },
      "source": [
        "<font color='blue'>\n",
        "    <font size = 5>\n",
        "Let us now investigate multiple features for each product to determine any pattern.\n",
        "</font>"
      ]
    },
    {
      "cell_type": "markdown",
      "id": "1aa1834b",
      "metadata": {
        "id": "1aa1834b"
      },
      "source": [
        "## Q 7. Compare prices for each product.\n",
        "\n",
        "## a)\tDraw boxplots of retail_price & discounted_price. (3 marks)\n",
        "\n",
        "## b)\t Are there any outliers? (Yes/No) (1mark)\n",
        "\n",
        "## c)\tCreate a scatterplot of retail_price (x-axis) and discounted_price (y-axis) (3 marks)\n"
      ]
    },
    {
      "cell_type": "markdown",
      "id": "d5aae861",
      "metadata": {
        "id": "d5aae861"
      },
      "source": [
        "### Ans 7 a)"
      ]
    },
    {
      "cell_type": "markdown",
      "source": [
        "Displayed the box plot of retailed price using the ECom_Data given and figsize is used to change the plot size to make it more visible and look good in presenting the graph"
      ],
      "metadata": {
        "id": "9kSp2fpTaKyD"
      },
      "id": "9kSp2fpTaKyD"
    },
    {
      "cell_type": "code",
      "execution_count": 17,
      "id": "510fd4d0",
      "metadata": {
        "colab": {
          "base_uri": "https://localhost:8080/",
          "height": 619
        },
        "id": "510fd4d0",
        "outputId": "5c3c2f11-9eeb-4290-952c-fc158151ce5e"
      },
      "outputs": [
        {
          "output_type": "display_data",
          "data": {
            "text/plain": [
              "<Figure size 1000x700 with 1 Axes>"
            ],
            "image/png": "[encoded data removed]"
          },
          "metadata": {}
        }
      ],
      "source": [
        "plt.figure(figsize=(10,7))\n",
        "sns.boxplot(data=ECom_Data,x='retail_price');"
      ]
    },
    {
      "cell_type": "code",
      "source": [
        "plt.figure(figsize=(60,10))\n",
        "sns.boxplot(data=ECom_Data,x='discounted_price',color='green');"
      ],
      "metadata": {
        "colab": {
          "base_uri": "https://localhost:8080/",
          "height": 223
        },
        "id": "fh7uzZpX0g-A",
        "outputId": "e351f835-923c-4c93-831e-5b5335c6f3a2"
      },
      "id": "fh7uzZpX0g-A",
      "execution_count": null,
      "outputs": [
        {
          "output_type": "display_data",
          "data": {
            "text/plain": [
              "<Figure size 6000x1000 with 1 Axes>"
            ],
            "image/png": "[encoded data removed]"
          },
          "metadata": {}
        }
      ]
    },
    {
      "cell_type": "markdown",
      "source": [
        "Displayed the box plot of discounted price using the ECom_Data given and figsize is used to change the plot size to make it more visible and look good in presenting the graph"
      ],
      "metadata": {
        "id": "4X_HLNODbHo7"
      },
      "id": "4X_HLNODbHo7"
    },
    {
      "cell_type": "markdown",
      "id": "78b92e7c",
      "metadata": {
        "id": "78b92e7c"
      },
      "source": [
        "### Ans 7 b)"
      ]
    },
    {
      "cell_type": "markdown",
      "source": [
        "Yes"
      ],
      "metadata": {
        "id": "frsQltXa2a5J"
      },
      "id": "frsQltXa2a5J"
    },
    {
      "cell_type": "markdown",
      "source": [
        "There are outliers in the box plot graph showed above you can see the dots that are called outliers a data that deviates significantly from the rest of the object"
      ],
      "metadata": {
        "id": "KDRgHBm6bOe0"
      },
      "id": "KDRgHBm6bOe0"
    },
    {
      "cell_type": "markdown",
      "id": "0389c9b8",
      "metadata": {
        "id": "0389c9b8"
      },
      "source": [
        "### Ans 7 c)"
      ]
    },
    {
      "cell_type": "code",
      "execution_count": 20,
      "id": "d8c44be9",
      "metadata": {
        "colab": {
          "base_uri": "https://localhost:8080/",
          "height": 450
        },
        "id": "d8c44be9",
        "outputId": "53be32f1-b662-4c07-ea1e-66dc9bfbad94"
      },
      "outputs": [
        {
          "output_type": "display_data",
          "data": {
            "text/plain": [
              "<Figure size 640x480 with 1 Axes>"
            ],
            "image/png": "[encoded data removed]"
          },
          "metadata": {}
        }
      ],
      "source": [
        "sns.scatterplot(data=ECom_Data,x='retail_price',y='discounted_price');"
      ]
    },
    {
      "cell_type": "markdown",
      "source": [
        "Made a scatterplot of retail_price (x-axis) and discounted_price (y-axis) as shown above"
      ],
      "metadata": {
        "id": "ojKxyvGgbtJj"
      },
      "id": "ojKxyvGgbtJj"
    },
    {
      "cell_type": "markdown",
      "id": "3bc47f55",
      "metadata": {
        "id": "3bc47f55"
      },
      "source": [
        "<font color='blue'>\n",
        "    <font size = 5>\n",
        "    The next steps will enable to study brand-level information.\n",
        "    </font>"
      ]
    },
    {
      "cell_type": "markdown",
      "id": "b9bd00f7",
      "metadata": {
        "id": "b9bd00f7"
      },
      "source": [
        "## Q 8. Create a new dataframe to include the Brand specific information as stated:\n",
        "## i.\ttotal number of orders placed per Brand\n",
        "## ii.\ttotal retail_price per Brand\n",
        "## iii.\ttotal discounted_price per Brand, and\n",
        "## iv.\ttotal BrandRevenue generated per Brand.\n",
        "\n",
        "## Also, draw a pairplot using these four features. (6 marks)\n"
      ]
    },
    {
      "cell_type": "code",
      "source": [
        "new_data = ECom_Data.groupby('Brand')[['product_unique ID','retail_price','discounted_price','Revenue']].sum()\n",
        "new_data\n"
      ],
      "metadata": {
        "id": "qNle47vRRVRd",
        "colab": {
          "base_uri": "https://localhost:8080/",
          "height": 509
        },
        "outputId": "1d735660-71c1-41f6-ae35-7c7809abc347"
      },
      "id": "qNle47vRRVRd",
      "execution_count": 22,
      "outputs": [
        {
          "output_type": "stream",
          "name": "stderr",
          "text": [
            "<ipython-input-22-670c743c259a>:1: FutureWarning: The default value of numeric_only in DataFrameGroupBy.sum is deprecated. In a future version, numeric_only will default to False. Either specify numeric_only or select only columns which should be valid for the function.\n",
            "  new_data = ECom_Data.groupby('Brand')[['product_unique ID','retail_price','discounted_price','Revenue']].sum()\n"
          ]
        },
        {
          "output_type": "execute_result",
          "data": {
            "text/plain": [
              "             retail_price  discounted_price   Revenue\n",
              "Brand                                                \n",
              "1OAK                 1698              1274    258.60\n",
              "3A AUTOCARE        107059             74134  18486.10\n",
              "3D MAT               7250              6999   1749.75\n",
              "3KFACTORY             399               174     26.10\n",
              "4D                  17500              7948   1987.00\n",
              "...                   ...               ...       ...\n",
              "ZORDEN               3999              2799    699.75\n",
              "ZOSIGN               6995              6995   1748.75\n",
              "ZRESTHA              1999               899    224.75\n",
              "ZYXEL               64742             35392   8848.00\n",
              " TARKAN              1999               349     52.35\n",
              "\n",
              "[2484 rows x 3 columns]"
            ],
            "text/html": [
              "\n",
              "  <div id=\"df-23cb37f4-10fd-4b1d-a9db-c0b6a07707b3\">\n",
              "    <div class=\"colab-df-container\">\n",
              "      <div>\n",
              "<style scoped>\n",
              "    .dataframe tbody tr th:only-of-type {\n",
              "        vertical-align: middle;\n",
              "    }\n",
              "\n",
              "    .dataframe tbody tr th {\n",
              "        vertical-align: top;\n",
              "    }\n",
              "\n",
              "    .dataframe thead th {\n",
              "        text-align: right;\n",
              "    }\n",
              "</style>\n",
              "<table border=\"1\" class=\"dataframe\">\n",
              "  <thead>\n",
              "    <tr style=\"text-align: right;\">\n",
              "      <th></th>\n",
              "      <th>retail_price</th>\n",
              "      <th>discounted_price</th>\n",
              "      <th>Revenue</th>\n",
              "    </tr>\n",
              "    <tr>\n",
              "      <th>Brand</th>\n",
              "      <th></th>\n",
              "      <th></th>\n",
              "      <th></th>\n",
              "    </tr>\n",
              "  </thead>\n",
              "  <tbody>\n",
              "    <tr>\n",
              "      <th>1OAK</th>\n",
              "      <td>1698</td>\n",
              "      <td>1274</td>\n",
              "      <td>258.60</td>\n",
              "    </tr>\n",
              "    <tr>\n",
              "      <th>3A AUTOCARE</th>\n",
              "      <td>107059</td>\n",
              "      <td>74134</td>\n",
              "      <td>18486.10</td>\n",
              "    </tr>\n",
              "    <tr>\n",
              "      <th>3D MAT</th>\n",
              "      <td>7250</td>\n",
              "      <td>6999</td>\n",
              "      <td>1749.75</td>\n",
              "    </tr>\n",
              "    <tr>\n",
              "      <th>3KFACTORY</th>\n",
              "      <td>399</td>\n",
              "      <td>174</td>\n",
              "      <td>26.10</td>\n",
              "    </tr>\n",
              "    <tr>\n",
              "      <th>4D</th>\n",
              "      <td>17500</td>\n",
              "      <td>7948</td>\n",
              "      <td>1987.00</td>\n",
              "    </tr>\n",
              "    <tr>\n",
              "      <th>...</th>\n",
              "      <td>...</td>\n",
              "      <td>...</td>\n",
              "      <td>...</td>\n",
              "    </tr>\n",
              "    <tr>\n",
              "      <th>ZORDEN</th>\n",
              "      <td>3999</td>\n",
              "      <td>2799</td>\n",
              "      <td>699.75</td>\n",
              "    </tr>\n",
              "    <tr>\n",
              "      <th>ZOSIGN</th>\n",
              "      <td>6995</td>\n",
              "      <td>6995</td>\n",
              "      <td>1748.75</td>\n",
              "    </tr>\n",
              "    <tr>\n",
              "      <th>ZRESTHA</th>\n",
              "      <td>1999</td>\n",
              "      <td>899</td>\n",
              "      <td>224.75</td>\n",
              "    </tr>\n",
              "    <tr>\n",
              "      <th>ZYXEL</th>\n",
              "      <td>64742</td>\n",
              "      <td>35392</td>\n",
              "      <td>8848.00</td>\n",
              "    </tr>\n",
              "    <tr>\n",
              "      <th>TARKAN</th>\n",
              "      <td>1999</td>\n",
              "      <td>349</td>\n",
              "      <td>52.35</td>\n",
              "    </tr>\n",
              "  </tbody>\n",
              "</table>\n",
              "<p>2484 rows × 3 columns</p>\n",
              "</div>\n",
              "      <button class=\"colab-df-convert\" onclick=\"convertToInteractive('df-23cb37f4-10fd-4b1d-a9db-c0b6a07707b3')\"\n",
              "              title=\"Convert this dataframe to an interactive table.\"\n",
              "              style=\"display:none;\">\n",
              "        \n",
              "  <svg xmlns=\"http://www.w3.org/2000/svg\" height=\"24px\"viewBox=\"0 0 24 24\"\n",
              "       width=\"24px\">\n",
              "    <path d=\"M0 0h24v24H0V0z\" fill=\"none\"/>\n",
              "    <path d=\"M18.56 5.44l.94 2.06.94-2.06 2.06-.94-2.06-.94-.94-2.06-.94 2.06-2.06.94zm-11 1L8.5 8.5l.94-2.06 2.06-.94-2.06-.94L8.5 2.5l-.94 2.06-2.06.94zm10 10l.94 2.06.94-2.06 2.06-.94-2.06-.94-.94-2.06-.94 2.06-2.06.94z\"/><path d=\"M17.41 7.96l-1.37-1.37c-.4-.4-.92-.59-1.43-.59-.52 0-1.04.2-1.43.59L10.3 9.45l-7.72 7.72c-.78.78-.78 2.05 0 2.83L4 21.41c.39.39.9.59 1.41.59.51 0 1.02-.2 1.41-.59l7.78-7.78 2.81-2.81c.8-.78.8-2.07 0-2.86zM5.41 20L4 18.59l7.72-7.72 1.47 1.35L5.41 20z\"/>\n",
              "  </svg>\n",
              "      </button>\n",
              "      \n",
              "  <style>\n",
              "    .colab-df-container {\n",
              "      display:flex;\n",
              "      flex-wrap:wrap;\n",
              "      gap: 12px;\n",
              "    }\n",
              "\n",
              "    .colab-df-convert {\n",
              "      background-color: #E8F0FE;\n",
              "      border: none;\n",
              "      border-radius: 50%;\n",
              "      cursor: pointer;\n",
              "      display: none;\n",
              "      fill: #1967D2;\n",
              "      height: 32px;\n",
              "      padding: 0 0 0 0;\n",
              "      width: 32px;\n",
              "    }\n",
              "\n",
              "    .colab-df-convert:hover {\n",
              "      background-color: #E2EBFA;\n",
              "      box-shadow: 0px 1px 2px rgba(60, 64, 67, 0.3), 0px 1px 3px 1px rgba(60, 64, 67, 0.15);\n",
              "      fill: #174EA6;\n",
              "    }\n",
              "\n",
              "    [theme=dark] .colab-df-convert {\n",
              "      background-color: #3B4455;\n",
              "      fill: #D2E3FC;\n",
              "    }\n",
              "\n",
              "    [theme=dark] .colab-df-convert:hover {\n",
              "      background-color: #434B5C;\n",
              "      box-shadow: 0px 1px 3px 1px rgba(0, 0, 0, 0.15);\n",
              "      filter: drop-shadow(0px 1px 2px rgba(0, 0, 0, 0.3));\n",
              "      fill: #FFFFFF;\n",
              "    }\n",
              "  </style>\n",
              "\n",
              "      <script>\n",
              "        const buttonEl =\n",
              "          document.querySelector('#df-23cb37f4-10fd-4b1d-a9db-c0b6a07707b3 button.colab-df-convert');\n",
              "        buttonEl.style.display =\n",
              "          google.colab.kernel.accessAllowed ? 'block' : 'none';\n",
              "\n",
              "        async function convertToInteractive(key) {\n",
              "          const element = document.querySelector('#df-23cb37f4-10fd-4b1d-a9db-c0b6a07707b3');\n",
              "          const dataTable =\n",
              "            await google.colab.kernel.invokeFunction('convertToInteractive',\n",
              "                                                     [key], {});\n",
              "          if (!dataTable) return;\n",
              "\n",
              "          const docLinkHtml = 'Like what you see? Visit the ' +\n",
              "            '<a target=\"_blank\" href=https://colab.research.google.com/notebooks/data_table.ipynb>data table notebook</a>'\n",
              "            + ' to learn more about interactive tables.';\n",
              "          element.innerHTML = '';\n",
              "          dataTable['output_type'] = 'display_data';\n",
              "          await google.colab.output.renderOutput(dataTable, element);\n",
              "          const docLink = document.createElement('div');\n",
              "          docLink.innerHTML = docLinkHtml;\n",
              "          element.appendChild(docLink);\n",
              "        }\n",
              "      </script>\n",
              "    </div>\n",
              "  </div>\n",
              "  "
            ]
          },
          "metadata": {},
          "execution_count": 22
        }
      ]
    },
    {
      "cell_type": "markdown",
      "source": [
        " new dataframe to include the Brand specific information as given in question"
      ],
      "metadata": {
        "id": "6dXjPbLdche1"
      },
      "id": "6dXjPbLdche1"
    },
    {
      "cell_type": "code",
      "source": [
        "sns.pairplot(data=ECom_Data[['product_unique ID','retail_price','discounted_price','Revenue']]);"
      ],
      "metadata": {
        "id": "nLCk7fyeRVUL",
        "colab": {
          "base_uri": "https://localhost:8080/",
          "height": 758
        },
        "outputId": "ada622d3-7a8a-4985-83dc-2cb58ce808f0"
      },
      "id": "nLCk7fyeRVUL",
      "execution_count": 23,
      "outputs": [
        {
          "output_type": "display_data",
          "data": {
            "text/plain": [
              "<Figure size 750x750 with 12 Axes>"
            ],
            "image/png": "[encoded data removed]"
          },
          "metadata": {}
        }
      ]
    },
    {
      "cell_type": "markdown",
      "source": [
        "pair plot is made for all the defined function retail_price','discounted_price','Revenue'\n",
        "\n"
      ],
      "metadata": {
        "id": "ZUcHbmSQdDO4"
      },
      "id": "ZUcHbmSQdDO4"
    },
    {
      "cell_type": "markdown",
      "id": "ecec83f4",
      "metadata": {
        "id": "ecec83f4"
      },
      "source": [
        "<font color='blue'>\n",
        "    <font size = 5>\n",
        "    The E-Commerce company operate in multiple regions. It is important to understand its performance in each region.\n",
        "    </font>"
      ]
    },
    {
      "cell_type": "markdown",
      "id": "dd09b8aa",
      "metadata": {
        "id": "dd09b8aa"
      },
      "source": [
        "## Q 9.Compare performance regionwise\n",
        "\n",
        "## a)\tDraw a lineplot for the monthly Revenue of E-Commerce Company for each region separately.  (4 marks)\n",
        "\n",
        "## b)\tIdentify the best and the worst performing months for each region. (2 marks)\n",
        "\n",
        "#### Note: Only those days with actual orders(Order_Date) placed are present in the dataset. Assuming there were no orders on other days. Also, show Month and Year on x-axis."
      ]
    },
    {
      "cell_type": "markdown",
      "id": "e6d64aea",
      "metadata": {
        "id": "e6d64aea"
      },
      "source": [
        "### Ans 9 a)"
      ]
    },
    {
      "cell_type": "code",
      "execution_count": null,
      "id": "d9a4f534",
      "metadata": {
        "id": "d9a4f534",
        "colab": {
          "base_uri": "https://localhost:8080/"
        },
        "outputId": "1cd19771-a9e7-4dcb-c1cd-d0b5bba9ce81"
      },
      "outputs": [
        {
          "output_type": "execute_result",
          "data": {
            "text/plain": [
              "East     3421\n",
              "West     2763\n",
              "North    1771\n",
              "South     951\n",
              "Name: Region, dtype: int64"
            ]
          },
          "metadata": {},
          "execution_count": 93
        }
      ],
      "source": [
        "ECom_Data['Region'].value_counts()"
      ]
    },
    {
      "cell_type": "code",
      "source": [
        "ECom_Data['Order_Date']=pd.to_datetime(ECom_Data['Order_Date'],dayfirst=True)"
      ],
      "metadata": {
        "id": "47kVdOBtiDa1"
      },
      "id": "47kVdOBtiDa1",
      "execution_count": 24,
      "outputs": []
    },
    {
      "cell_type": "markdown",
      "source": [
        "We need to extract the month and year from the orderdate of dataser. So basically we need to convert it into the date time format"
      ],
      "metadata": {
        "id": "FQCdXyqHlqm3"
      },
      "id": "FQCdXyqHlqm3"
    },
    {
      "cell_type": "code",
      "source": [
        "ECom_Data['Month']=ECom_Data['Order_Date'].dt.month\n",
        "ECom_Data['Year']=ECom_Data['Order_Date'].dt.year"
      ],
      "metadata": {
        "id": "AzETJcz1WdFG"
      },
      "id": "AzETJcz1WdFG",
      "execution_count": 25,
      "outputs": []
    },
    {
      "cell_type": "markdown",
      "source": [
        "The Order_data column is converted now we need to extract the respectivr month and year from this column"
      ],
      "metadata": {
        "id": "pBzmVBuFmAwY"
      },
      "id": "pBzmVBuFmAwY"
    },
    {
      "cell_type": "code",
      "source": [
        "ECom_Data.groupby(['Year','Month','Region'])['Revenue'].sum().sort_values(ascending=False)"
      ],
      "metadata": {
        "colab": {
          "base_uri": "https://localhost:8080/"
        },
        "id": "rBTVQAMiKTAD",
        "outputId": "0f6fa8d7-b0d0-4ea2-e79a-d3e4393e76bf"
      },
      "id": "rBTVQAMiKTAD",
      "execution_count": 28,
      "outputs": [
        {
          "output_type": "execute_result",
          "data": {
            "text/plain": [
              "Year  Month  Region\n",
              "2020  12     East      366172.10\n",
              "             West      304989.60\n",
              "2021  1      East      222614.70\n",
              "2020  12     North     196375.95\n",
              "2021  1      West      148884.10\n",
              "                         ...    \n",
              "      8      North        374.75\n",
              "      7      East         351.35\n",
              "             North        330.00\n",
              "      10     West         250.50\n",
              "             East         216.00\n",
              "Name: Revenue, Length: 37, dtype: float64"
            ]
          },
          "metadata": {},
          "execution_count": 28
        }
      ]
    },
    {
      "cell_type": "markdown",
      "source": [
        "We use the group by function on the month year column along with that revenue . Total revenue need to be calculated by using sum() function"
      ],
      "metadata": {
        "id": "R8RxQCMKmQNe"
      },
      "id": "R8RxQCMKmQNe"
    },
    {
      "cell_type": "code",
      "source": [
        "Region1='East'\n",
        "Region2='West'\n",
        "Region3='North'\n",
        "Region4='South'"
      ],
      "metadata": {
        "id": "9lNE1mI4ror7"
      },
      "id": "9lNE1mI4ror7",
      "execution_count": 39,
      "outputs": []
    },
    {
      "cell_type": "code",
      "source": [
        "plt.figure(figsize=(16,7))\n",
        "sns.lineplot(data=ECom_Data,x='Order_Date',y='Revenue',hue='Region',ci=False);\n",
        "plt.xticks(rotation=90);\n",
        "\n"
      ],
      "metadata": {
        "colab": {
          "base_uri": "https://localhost:8080/",
          "height": 669
        },
        "id": "nLJcSa1I7NcW",
        "outputId": "767ecd0d-d2a4-4212-a88b-be2a16098cf4"
      },
      "id": "nLJcSa1I7NcW",
      "execution_count": 41,
      "outputs": [
        {
          "output_type": "stream",
          "name": "stderr",
          "text": [
            "<ipython-input-41-02d91c613c74>:2: FutureWarning: \n",
            "\n",
            "The `ci` parameter is deprecated. Use `errorbar=('ci', False)` for the same effect.\n",
            "\n",
            "  sns.lineplot(data=ECom_Data,x='Order_Date',y='Revenue',hue='Region',ci=False);\n"
          ]
        },
        {
          "output_type": "display_data",
          "data": {
            "text/plain": [
              "<Figure size 1600x700 with 1 Axes>"
            ],
            "image/png": "[encoded data removed]"
          },
          "metadata": {}
        }
      ]
    },
    {
      "cell_type": "markdown",
      "source": [
        "line plot has been plot between the order month and the revenue as shown above"
      ],
      "metadata": {
        "id": "HFJcSOfrmopo"
      },
      "id": "HFJcSOfrmopo"
    },
    {
      "cell_type": "markdown",
      "id": "dac59dc4",
      "metadata": {
        "id": "dac59dc4"
      },
      "source": [
        "### Ans 9 b)"
      ]
    },
    {
      "cell_type": "code",
      "execution_count": 31,
      "id": "9f569635",
      "metadata": {
        "id": "9f569635",
        "colab": {
          "base_uri": "https://localhost:8080/"
        },
        "outputId": "b0ae16d5-f378-4f85-87d1-99d6f793d46c"
      },
      "outputs": [
        {
          "output_type": "execute_result",
          "data": {
            "text/plain": [
              "Year  Month  Region\n",
              "2020  12     East      366172.10\n",
              "             West      304989.60\n",
              "2021  1      East      222614.70\n",
              "2020  12     North     196375.95\n",
              "2021  1      West      148884.10\n",
              "                         ...    \n",
              "      8      North        374.75\n",
              "      7      East         351.35\n",
              "             North        330.00\n",
              "      10     West         250.50\n",
              "             East         216.00\n",
              "Name: Revenue, Length: 37, dtype: float64"
            ]
          },
          "metadata": {},
          "execution_count": 31
        }
      ],
      "source": [
        "ECom_Data.groupby(['Year','Month','Region'])['Revenue'].sum().sort_values(ascending=False)"
      ]
    },
    {
      "cell_type": "markdown",
      "source": [
        "best and the worst performing months for each region by using the groupby fub=nction and taken month region of revenue"
      ],
      "metadata": {
        "id": "ZHnybzzQo-4C"
      },
      "id": "ZHnybzzQo-4C"
    },
    {
      "cell_type": "markdown",
      "id": "dcb8d39f",
      "metadata": {
        "id": "dcb8d39f"
      },
      "source": [
        "<font color='blue'>\n",
        "    <font size = 5>\n",
        "    Congratulations! You have learnt how to approach a complex data and extract information out of it.\n",
        "    </font>"
      ]
    }
  ],
  "metadata": {
    "kernelspec": {
      "display_name": "Python 3",
      "language": "python",
      "name": "python3"
    },
    "language_info": {
      "codemirror_mode": {
        "name": "ipython",
        "version": 3
      },
      "file_extension": ".py",
      "mimetype": "text/x-python",
      "name": "python",
      "nbconvert_exporter": "python",
      "pygments_lexer": "ipython3",
      "version": "3.8.8"
    },
    "colab": {
      "provenance": []
    }
  },
  "nbformat": 4,
  "nbformat_minor": 5
}